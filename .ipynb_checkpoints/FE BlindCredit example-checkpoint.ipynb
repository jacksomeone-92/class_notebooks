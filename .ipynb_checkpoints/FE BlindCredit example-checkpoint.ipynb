{
 "cells": [
  {
   "cell_type": "markdown",
   "metadata": {
    "hideCode": false,
    "hidePrompt": false
   },
   "source": [
    "# Sample stragegy with Feature Engineering\n",
    "\n",
    "This notebook will illustrate how to tackle a new ML challenge from the feature engineering perspective. We will run very quickly over the data preparation and exploratory data analysis (EDA) phases since the goal is to illustrate how to work with features.\n",
    "\n",
    "The dataset proposed is a random one selected from UCI, for binomial classification, with a mix of categorical and numerical features.\n",
    "\n",
    "We will use the pyDataset library, simply because it saves a large amount of working time in preparing and getting data ready to be used. For those of you who prefer to stick to Pandas, it is OK! All the code for every single transformation performed with pyDataset is in the repo and documented, so you can copy the portions that you might need.\n",
    "\n",
    "Remeber: the goal is to illustrate the process of Feature Engineering. That means:\n",
    "\n",
    "  1. Prepare the data\n",
    "  2. Setup a baseline for the model and the metric selected. This means that we need to know what is the metric obtained with a simple model when we do nothing on our features to later check if ourfeature engineering process is working properly.\n",
    "  3. Start with feature construction: can we build new features?\n",
    "  4. Continue with feature filtering: can we get rid of some features and keep our performance level?\n",
    "  \n",
    "Enjoy!"
   ]
  },
  {
   "cell_type": "markdown",
   "metadata": {
    "hideCode": false,
    "hidePrompt": false,
    "toc": true
   },
   "source": [
    "<h1>Table of Contents<span class=\"tocSkip\"></span></h1>\n",
    "<div class=\"toc\"><ul class=\"toc-item\"><li><span><a href=\"#Sample-stragegy-with-Feature-Engineering\" data-toc-modified-id=\"Sample-stragegy-with-Feature-Engineering-1\"><span class=\"toc-item-num\">1&nbsp;&nbsp;</span>Sample stragegy with Feature Engineering</a></span><ul class=\"toc-item\"><li><span><a href=\"#Loading-data\" data-toc-modified-id=\"Loading-data-1.1\"><span class=\"toc-item-num\">1.1&nbsp;&nbsp;</span>Loading data</a></span><ul class=\"toc-item\"><li><span><a href=\"#Data-types\" data-toc-modified-id=\"Data-types-1.1.1\"><span class=\"toc-item-num\">1.1.1&nbsp;&nbsp;</span>Data types</a></span></li><li><span><a href=\"#Scaling-and-setting-the-target\" data-toc-modified-id=\"Scaling-and-setting-the-target-1.1.2\"><span class=\"toc-item-num\">1.1.2&nbsp;&nbsp;</span>Scaling and setting the target</a></span></li></ul></li></ul></li><li><span><a href=\"#Feature-Engineering\" data-toc-modified-id=\"Feature-Engineering-2\"><span class=\"toc-item-num\">2&nbsp;&nbsp;</span>Feature Engineering</a></span><ul class=\"toc-item\"><li><span><a href=\"#Baseline-the-problem\" data-toc-modified-id=\"Baseline-the-problem-2.1\"><span class=\"toc-item-num\">2.1&nbsp;&nbsp;</span>Baseline the problem</a></span></li><li><span><a href=\"#Encode-categorical-variables\" data-toc-modified-id=\"Encode-categorical-variables-2.2\"><span class=\"toc-item-num\">2.2&nbsp;&nbsp;</span>Encode categorical variables</a></span><ul class=\"toc-item\"><li><span><a href=\"#Keeping-everything-in-order\" data-toc-modified-id=\"Keeping-everything-in-order-2.2.1\"><span class=\"toc-item-num\">2.2.1&nbsp;&nbsp;</span>Keeping everything in order</a></span></li></ul></li><li><span><a href=\"#Building-new-features.\" data-toc-modified-id=\"Building-new-features.-2.3\"><span class=\"toc-item-num\">2.3&nbsp;&nbsp;</span>Building new features.</a></span></li><li><span><a href=\"#Filter-features\" data-toc-modified-id=\"Filter-features-2.4\"><span class=\"toc-item-num\">2.4&nbsp;&nbsp;</span>Filter features</a></span><ul class=\"toc-item\"><li><span><a href=\"#RelieF\" data-toc-modified-id=\"RelieF-2.4.1\"><span class=\"toc-item-num\">2.4.1&nbsp;&nbsp;</span>RelieF</a></span></li><li><span><a href=\"#Permutation-importance\" data-toc-modified-id=\"Permutation-importance-2.4.2\"><span class=\"toc-item-num\">2.4.2&nbsp;&nbsp;</span>Permutation importance</a></span></li><li><span><a href=\"#Regularization-$-\\ell_1$\" data-toc-modified-id=\"Regularization-$-\\ell_1$-2.4.3\"><span class=\"toc-item-num\">2.4.3&nbsp;&nbsp;</span>Regularization $ \\ell_1$</a></span></li></ul></li><li><span><a href=\"#Summary\" data-toc-modified-id=\"Summary-2.5\"><span class=\"toc-item-num\">2.5&nbsp;&nbsp;</span>Summary</a></span></li></ul></li></ul></div>"
   ]
  },
  {
   "cell_type": "code",
   "execution_count": 1,
   "metadata": {
    "hideCode": false,
    "hidePrompt": false
   },
   "outputs": [
    {
     "name": "stderr",
     "output_type": "stream",
     "text": [
      "/Users/renero/.virtualenvs/dataset/lib/python3.7/site-packages/sklearn/externals/joblib/__init__.py:15: FutureWarning: sklearn.externals.joblib is deprecated in 0.21 and will be removed in 0.23. Please import this functionality directly from joblib, which can be installed with: pip install joblib. If this warning is raised when loading pickled models, you may need to re-serialize those models with scikit-learn 0.21+.\n",
      "  warnings.warn(msg, category=FutureWarning)\n"
     ]
    }
   ],
   "source": [
    "import category_encoders as ce\n",
    "import matplotlib.pyplot as plt\n",
    "import numpy as np\n",
    "import pandas as pd\n",
    "\n",
    "from dataset import Dataset as dataset\n",
    "from gplearn.genetic import SymbolicTransformer\n",
    "from sklearn.inspection import permutation_importance\n",
    "from sklearn.linear_model import LogisticRegression\n",
    "from sklearn.model_selection import cross_val_score\n",
    "from skrebate import ReliefF\n",
    "\n",
    "import warnings\n",
    "\n",
    "warnings.filterwarnings(\"ignore\")\n",
    "%matplotlib inline"
   ]
  },
  {
   "cell_type": "markdown",
   "metadata": {
    "hideCode": false,
    "hidePrompt": false
   },
   "source": [
    "## Loading data\n",
    "\n",
    "The official description of the dataset is:\n",
    "\n",
    "    x0: 0,1 CATEGORICAL (formerly: a,b) \n",
    "    x1: continuous. \n",
    "    x2: continuous. \n",
    "    x3: 1,2,3 CATEGORICAL (formerly: p,g,gg) \n",
    "    x4: 1, 2,3,4,5, 6,7,8,9,10,11,12,13,14 CATEGORICAL (formerly: ff,d,i,k,j,aa,m,c,w, e, q, r,cc, x) \n",
    "    x5: 1, 2,3, 4,5,6,7,8,9 CATEGORICAL (formerly: ff,dd,j,bb,v,n,o,h,z) \n",
    "    x6: continuous. \n",
    "    x7: 1, 0 CATEGORICAL (formerly: t, f) \n",
    "    x8: 1, 0 CATEGORICAL (formerly: t, f) \n",
    "    x9: continuous. \n",
    "    x10: 1, 0 CATEGORICAL (formerly t, f) \n",
    "    x11: 1, 2, 3 CATEGORICAL (formerly: s, g, p) \n",
    "    x11: continuous. \n",
    "    x13: continuous. \n",
    "    x14: 1,2 class attribute (formerly: +,-)\n",
    "    \n",
    "So, we don't know anything from the business domain. Therefore we will only act upon the observed behaviour of the features.\n",
    "\n",
    "Target variable is `x14` in our case."
   ]
  },
  {
   "cell_type": "code",
   "execution_count": 2,
   "metadata": {
    "hideCode": false,
    "hidePrompt": false
   },
   "outputs": [
    {
     "data": {
      "text/html": [
       "<div>\n",
       "<style scoped>\n",
       "    .dataframe tbody tr th:only-of-type {\n",
       "        vertical-align: middle;\n",
       "    }\n",
       "\n",
       "    .dataframe tbody tr th {\n",
       "        vertical-align: top;\n",
       "    }\n",
       "\n",
       "    .dataframe thead th {\n",
       "        text-align: right;\n",
       "    }\n",
       "</style>\n",
       "<table border=\"1\" class=\"dataframe\">\n",
       "  <thead>\n",
       "    <tr style=\"text-align: right;\">\n",
       "      <th></th>\n",
       "      <th>x0</th>\n",
       "      <th>x1</th>\n",
       "      <th>x2</th>\n",
       "      <th>x3</th>\n",
       "      <th>x4</th>\n",
       "      <th>x5</th>\n",
       "      <th>x6</th>\n",
       "      <th>x7</th>\n",
       "      <th>x8</th>\n",
       "      <th>x9</th>\n",
       "      <th>x10</th>\n",
       "      <th>x11</th>\n",
       "      <th>x12</th>\n",
       "      <th>x13</th>\n",
       "      <th>x14</th>\n",
       "    </tr>\n",
       "  </thead>\n",
       "  <tbody>\n",
       "    <tr>\n",
       "      <th>0</th>\n",
       "      <td>1.0</td>\n",
       "      <td>22.08</td>\n",
       "      <td>11.46</td>\n",
       "      <td>2.0</td>\n",
       "      <td>4.0</td>\n",
       "      <td>4.0</td>\n",
       "      <td>1.585</td>\n",
       "      <td>0.0</td>\n",
       "      <td>0.0</td>\n",
       "      <td>0.0</td>\n",
       "      <td>1.0</td>\n",
       "      <td>2.0</td>\n",
       "      <td>100.0</td>\n",
       "      <td>1213.0</td>\n",
       "      <td>0.0</td>\n",
       "    </tr>\n",
       "    <tr>\n",
       "      <th>1</th>\n",
       "      <td>0.0</td>\n",
       "      <td>22.67</td>\n",
       "      <td>7.00</td>\n",
       "      <td>2.0</td>\n",
       "      <td>8.0</td>\n",
       "      <td>4.0</td>\n",
       "      <td>0.165</td>\n",
       "      <td>0.0</td>\n",
       "      <td>0.0</td>\n",
       "      <td>0.0</td>\n",
       "      <td>0.0</td>\n",
       "      <td>2.0</td>\n",
       "      <td>160.0</td>\n",
       "      <td>1.0</td>\n",
       "      <td>0.0</td>\n",
       "    </tr>\n",
       "    <tr>\n",
       "      <th>2</th>\n",
       "      <td>0.0</td>\n",
       "      <td>29.58</td>\n",
       "      <td>1.75</td>\n",
       "      <td>1.0</td>\n",
       "      <td>4.0</td>\n",
       "      <td>4.0</td>\n",
       "      <td>1.250</td>\n",
       "      <td>0.0</td>\n",
       "      <td>0.0</td>\n",
       "      <td>0.0</td>\n",
       "      <td>1.0</td>\n",
       "      <td>2.0</td>\n",
       "      <td>280.0</td>\n",
       "      <td>1.0</td>\n",
       "      <td>0.0</td>\n",
       "    </tr>\n",
       "    <tr>\n",
       "      <th>3</th>\n",
       "      <td>0.0</td>\n",
       "      <td>21.67</td>\n",
       "      <td>11.50</td>\n",
       "      <td>1.0</td>\n",
       "      <td>5.0</td>\n",
       "      <td>3.0</td>\n",
       "      <td>0.000</td>\n",
       "      <td>1.0</td>\n",
       "      <td>1.0</td>\n",
       "      <td>11.0</td>\n",
       "      <td>1.0</td>\n",
       "      <td>2.0</td>\n",
       "      <td>0.0</td>\n",
       "      <td>1.0</td>\n",
       "      <td>1.0</td>\n",
       "    </tr>\n",
       "    <tr>\n",
       "      <th>4</th>\n",
       "      <td>1.0</td>\n",
       "      <td>20.17</td>\n",
       "      <td>8.17</td>\n",
       "      <td>2.0</td>\n",
       "      <td>6.0</td>\n",
       "      <td>4.0</td>\n",
       "      <td>1.960</td>\n",
       "      <td>1.0</td>\n",
       "      <td>1.0</td>\n",
       "      <td>14.0</td>\n",
       "      <td>0.0</td>\n",
       "      <td>2.0</td>\n",
       "      <td>60.0</td>\n",
       "      <td>159.0</td>\n",
       "      <td>1.0</td>\n",
       "    </tr>\n",
       "  </tbody>\n",
       "</table>\n",
       "</div>"
      ],
      "text/plain": [
       "    x0     x1     x2   x3   x4   x5     x6   x7   x8    x9  x10  x11    x12  \\\n",
       "0  1.0  22.08  11.46  2.0  4.0  4.0  1.585  0.0  0.0   0.0  1.0  2.0  100.0   \n",
       "1  0.0  22.67   7.00  2.0  8.0  4.0  0.165  0.0  0.0   0.0  0.0  2.0  160.0   \n",
       "2  0.0  29.58   1.75  1.0  4.0  4.0  1.250  0.0  0.0   0.0  1.0  2.0  280.0   \n",
       "3  0.0  21.67  11.50  1.0  5.0  3.0  0.000  1.0  1.0  11.0  1.0  2.0    0.0   \n",
       "4  1.0  20.17   8.17  2.0  6.0  4.0  1.960  1.0  1.0  14.0  0.0  2.0   60.0   \n",
       "\n",
       "      x13  x14  \n",
       "0  1213.0  0.0  \n",
       "1     1.0  0.0  \n",
       "2     1.0  0.0  \n",
       "3     1.0  1.0  \n",
       "4   159.0  1.0  "
      ]
     },
     "execution_count": 2,
     "metadata": {},
     "output_type": "execute_result"
    }
   ],
   "source": [
    "data_url = 'https://archive.ics.uci.edu/ml/machine-learning-databases/statlog/australian/australian.dat'\n",
    "raw = dataset(data_url, header=None, delimiter=' ')\n",
    "raw.features.head()"
   ]
  },
  {
   "cell_type": "markdown",
   "metadata": {
    "hideCode": false,
    "hidePrompt": false
   },
   "source": [
    "### Data types\n",
    "\n",
    "Convert the features to the proper format:"
   ]
  },
  {
   "cell_type": "code",
   "execution_count": 3,
   "metadata": {
    "hideCode": false,
    "hidePrompt": false
   },
   "outputs": [
    {
     "name": "stdout",
     "output_type": "stream",
     "text": [
      "Features Summary (all):\n",
      "'x0' : object     2 categs. '1.0'(468, 0.6783) '0.0'(222, 0.3217) \n",
      "'x1' : float64    Min.(13.7) 1stQ(22.6) Med.(28.6) Mean(31.5) 3rdQ(37.7) Max.(80.2)\n",
      "'x2' : float64    Min.(0.0) 1stQ(1.0) Med.(2.75) Mean(4.75) 3rdQ(7.20) Max.(28.0)\n",
      "'x3' : object     3 categs. '2.0'(525, 0.7609) '1.0'(163, 0.2362) '3.0'(2, 0.0029) \n",
      "'x4' : object     14 categs. '4.0'(146, 0.2116) '8.0'(78, 0.1130) '5.0'(64, 0.0928) '6.0'(59, 0.0855) ...\n",
      "'x5' : object     8 categs. '4.0'(408, 0.5913) '3.0'(138, 0.2000) '8.0'(59, 0.0855) '1.0'(57, 0.0826) ...\n",
      "'x6' : float64    Min.(0.0) 1stQ(0.16) Med.(1.0) Mean(2.22) 3rdQ(2.62) Max.(28.5)\n",
      "'x7' : object     2 categs. '0.0'(361, 0.5232) '1.0'(329, 0.4768) \n",
      "'x8' : object     2 categs. '0.0'(395, 0.5725) '1.0'(295, 0.4275) \n",
      "'x9' : float64    Min.(0.0) 1stQ(0.0) Med.(0.0) Mean(2.4) 3rdQ(3.0) Max.(67.0)\n",
      "'x10': object     2 categs. '1.0'(374, 0.5420) '0.0'(316, 0.4580) \n",
      "'x11': object     3 categs. '2.0'(625, 0.9058) '1.0'(57, 0.0826) '3.0'(8, 0.0116) \n",
      "'x12': float64    Min.(0.0) 1stQ(80.0) Med.(160.) Mean(184.) 3rdQ(272.) Max.(2000)\n",
      "'x13': float64    Min.(1.0) 1stQ(1.0) Med.(6.0) Mean(1018) 3rdQ(396.) Max.(1000)\n",
      "'x14': object     2 categs. '0.0'(383, 0.5551) '1.0'(307, 0.4449) \n"
     ]
    }
   ],
   "source": [
    "raw.to_categorical(['x0', 'x3', 'x4', 'x5', 'x7', 'x8', 'x10', 'x11', 'x14'])\n",
    "raw.summary()"
   ]
  },
  {
   "cell_type": "markdown",
   "metadata": {
    "hideCode": false,
    "hidePrompt": false
   },
   "source": [
    "Now, we've all features (more or less) in the correct type. Let's check if we'have some NA's."
   ]
  },
  {
   "cell_type": "code",
   "execution_count": 4,
   "metadata": {
    "hideCode": false,
    "hidePrompt": false
   },
   "outputs": [
    {
     "name": "stdout",
     "output_type": "stream",
     "text": [
      "15 Features. 690 Samples\n",
      "Available types: [dtype('O') dtype('float64')]\n",
      "  · 9 categorical features\n",
      "  · 6 numerical features\n",
      "  · 0 categorical features with NAs\n",
      "  · 0 numerical features with NAs\n",
      "  · 15 Complete features\n",
      "--\n",
      "Target: Not set\n"
     ]
    }
   ],
   "source": [
    "raw.describe()"
   ]
  },
  {
   "cell_type": "markdown",
   "metadata": {
    "hideCode": false,
    "hidePrompt": false
   },
   "source": [
    "Seems that the dataset presents no NA's, and all features are complete. We're not checking anything else in this exercise, but EDA should be much more thorough.\n",
    "\n",
    "### Scaling and setting the target\n",
    "\n",
    "The following piece of code scale ONLY numeric features (no need to specify) and then converts the target variable (`x14`) to numerical (by default it is an `object` type), and finally is set as the target variable."
   ]
  },
  {
   "cell_type": "code",
   "execution_count": 5,
   "metadata": {
    "hideCode": false,
    "hidePrompt": false
   },
   "outputs": [
    {
     "data": {
      "text/html": [
       "<div>\n",
       "<style scoped>\n",
       "    .dataframe tbody tr th:only-of-type {\n",
       "        vertical-align: middle;\n",
       "    }\n",
       "\n",
       "    .dataframe tbody tr th {\n",
       "        vertical-align: top;\n",
       "    }\n",
       "\n",
       "    .dataframe thead th {\n",
       "        text-align: right;\n",
       "    }\n",
       "</style>\n",
       "<table border=\"1\" class=\"dataframe\">\n",
       "  <thead>\n",
       "    <tr style=\"text-align: right;\">\n",
       "      <th></th>\n",
       "      <th>x0</th>\n",
       "      <th>x1</th>\n",
       "      <th>x2</th>\n",
       "      <th>x3</th>\n",
       "      <th>x4</th>\n",
       "      <th>x5</th>\n",
       "      <th>x6</th>\n",
       "      <th>x7</th>\n",
       "      <th>x8</th>\n",
       "      <th>x9</th>\n",
       "      <th>x10</th>\n",
       "      <th>x11</th>\n",
       "      <th>x12</th>\n",
       "      <th>x13</th>\n",
       "      <th>x14</th>\n",
       "    </tr>\n",
       "  </thead>\n",
       "  <tbody>\n",
       "    <tr>\n",
       "      <th>0</th>\n",
       "      <td>1</td>\n",
       "      <td>-0.801052</td>\n",
       "      <td>1.347111</td>\n",
       "      <td>2</td>\n",
       "      <td>4</td>\n",
       "      <td>4</td>\n",
       "      <td>-0.190906</td>\n",
       "      <td>0</td>\n",
       "      <td>0</td>\n",
       "      <td>-0.493887</td>\n",
       "      <td>1</td>\n",
       "      <td>2</td>\n",
       "      <td>-0.488358</td>\n",
       "      <td>0.037380</td>\n",
       "      <td>0</td>\n",
       "    </tr>\n",
       "    <tr>\n",
       "      <th>1</th>\n",
       "      <td>0</td>\n",
       "      <td>-0.751240</td>\n",
       "      <td>0.450548</td>\n",
       "      <td>2</td>\n",
       "      <td>8</td>\n",
       "      <td>4</td>\n",
       "      <td>-0.615536</td>\n",
       "      <td>0</td>\n",
       "      <td>0</td>\n",
       "      <td>-0.493887</td>\n",
       "      <td>0</td>\n",
       "      <td>2</td>\n",
       "      <td>-0.139591</td>\n",
       "      <td>-0.195413</td>\n",
       "      <td>0</td>\n",
       "    </tr>\n",
       "    <tr>\n",
       "      <th>2</th>\n",
       "      <td>0</td>\n",
       "      <td>-0.167856</td>\n",
       "      <td>-0.604823</td>\n",
       "      <td>1</td>\n",
       "      <td>4</td>\n",
       "      <td>4</td>\n",
       "      <td>-0.291083</td>\n",
       "      <td>0</td>\n",
       "      <td>0</td>\n",
       "      <td>-0.493887</td>\n",
       "      <td>1</td>\n",
       "      <td>2</td>\n",
       "      <td>0.557943</td>\n",
       "      <td>-0.195413</td>\n",
       "      <td>0</td>\n",
       "    </tr>\n",
       "    <tr>\n",
       "      <th>3</th>\n",
       "      <td>0</td>\n",
       "      <td>-0.835667</td>\n",
       "      <td>1.355152</td>\n",
       "      <td>1</td>\n",
       "      <td>5</td>\n",
       "      <td>3</td>\n",
       "      <td>-0.664877</td>\n",
       "      <td>1</td>\n",
       "      <td>1</td>\n",
       "      <td>1.769760</td>\n",
       "      <td>1</td>\n",
       "      <td>2</td>\n",
       "      <td>-1.069637</td>\n",
       "      <td>-0.195413</td>\n",
       "      <td>1</td>\n",
       "    </tr>\n",
       "    <tr>\n",
       "      <th>4</th>\n",
       "      <td>1</td>\n",
       "      <td>-0.962306</td>\n",
       "      <td>0.685745</td>\n",
       "      <td>2</td>\n",
       "      <td>6</td>\n",
       "      <td>4</td>\n",
       "      <td>-0.078768</td>\n",
       "      <td>1</td>\n",
       "      <td>1</td>\n",
       "      <td>2.387119</td>\n",
       "      <td>0</td>\n",
       "      <td>2</td>\n",
       "      <td>-0.720870</td>\n",
       "      <td>-0.165066</td>\n",
       "      <td>1</td>\n",
       "    </tr>\n",
       "  </tbody>\n",
       "</table>\n",
       "</div>"
      ],
      "text/plain": [
       "   x0        x1        x2  x3  x4  x5        x6  x7  x8        x9  x10  x11  \\\n",
       "0   1 -0.801052  1.347111   2   4   4 -0.190906   0   0 -0.493887    1    2   \n",
       "1   0 -0.751240  0.450548   2   8   4 -0.615536   0   0 -0.493887    0    2   \n",
       "2   0 -0.167856 -0.604823   1   4   4 -0.291083   0   0 -0.493887    1    2   \n",
       "3   0 -0.835667  1.355152   1   5   3 -0.664877   1   1  1.769760    1    2   \n",
       "4   1 -0.962306  0.685745   2   6   4 -0.078768   1   1  2.387119    0    2   \n",
       "\n",
       "        x12       x13  x14  \n",
       "0 -0.488358  0.037380    0  \n",
       "1 -0.139591 -0.195413    0  \n",
       "2  0.557943 -0.195413    0  \n",
       "3 -1.069637 -0.195413    1  \n",
       "4 -0.720870 -0.165066    1  "
      ]
     },
     "execution_count": 5,
     "metadata": {},
     "output_type": "execute_result"
    }
   ],
   "source": [
    "raw.scale(method='StandardScaler')\n",
    "\n",
    "# This is converting all my categoricals into numericals but\n",
    "# I will keep a copy of this list of feature names into 'categoricals'\n",
    "categoricals = raw.categorical_features\n",
    "raw.to_numerical(categoricals).to_int(categoricals)\n",
    "categoricals.remove('x14')\n",
    "\n",
    "raw.set_target('x14')\n",
    "X = raw.features\n",
    "y = raw.target\n",
    "raw.all.head()"
   ]
  },
  {
   "cell_type": "markdown",
   "metadata": {
    "hideCode": false,
    "hidePrompt": false
   },
   "source": [
    "# Feature Engineering\n",
    "\n",
    "At this point you should spend a long time running your exploratory data analysis to check that everything is properly balanced and meaninful, and probably proposing some combinations of variables or levels. But we don't want to concentrate on that, but rather on the FE process. Roughly, my strategy will be \n",
    "\n",
    "- rebuild our categorical variables into something more numeric, \n",
    "- use some external tools to build new features synthetically, and from there \n",
    "- check if we can filter out some features to finally \n",
    "- adjust a regularization parameter for my model.\n",
    "\n",
    "## Baseline the problem\n",
    "\n",
    "BUT, first of all, you must **BASELINE** your model. This means that we need a reference to know whether our proposed changes to the features are making the model better or worse."
   ]
  },
  {
   "cell_type": "code",
   "execution_count": 6,
   "metadata": {
    "hideCode": false,
    "hidePrompt": false
   },
   "outputs": [
    {
     "data": {
      "text/plain": [
       "LogisticRegression(C=1.0, class_weight=None, dual=False, fit_intercept=True,\n",
       "                   intercept_scaling=1, l1_ratio=None, max_iter=100,\n",
       "                   multi_class='auto', n_jobs=None, penalty='l2',\n",
       "                   random_state=None, solver='liblinear', tol=0.0001, verbose=0,\n",
       "                   warm_start=False)"
      ]
     },
     "execution_count": 6,
     "metadata": {},
     "output_type": "execute_result"
    }
   ],
   "source": [
    "model = LogisticRegression(\n",
    "    # penalty='l1',\n",
    "    solver='liblinear',\n",
    "    C=1.0)\n",
    "model.fit(X, y)"
   ]
  },
  {
   "cell_type": "code",
   "execution_count": 7,
   "metadata": {
    "hideCode": false,
    "hidePrompt": false
   },
   "outputs": [
    {
     "name": "stdout",
     "output_type": "stream",
     "text": [
      "Accuracy: 0.857 (+/- 0.08)\n"
     ]
    }
   ],
   "source": [
    "final_scores = {}\n",
    "scores = cross_val_score(model, X, y, cv=5)\n",
    "print(\"Accuracy: %0.3f (+/- %0.2f)\" % (scores.mean(), scores.std() * 2))\n",
    "\n",
    "final_scores['baseline'] = scores.mean()"
   ]
  },
  {
   "cell_type": "markdown",
   "metadata": {
    "hideCode": false,
    "hidePrompt": false
   },
   "source": [
    "## Encode categorical variables\n",
    "\n",
    "Let's see if we improve our results by re-encode the categorical features into numerical by applying target encoding. To do so, I will use an incubator library from scikit learn called `category_encoders` that you can easily install by typing:\n",
    "\n",
    "```sh\n",
    "$ pip install category_encoders\n",
    "```\n",
    "\n",
    "Check out [here](https://github.com/scikit-learn-contrib/category_encoders) for more information.\n",
    "\n",
    "First thing to do is to create the encoder indicating what columns do I want to encode. I will do that by passing a list with the names of the categorical variables, which I get by calling `raw.categorical_features`. From there I only have to use the `fit_transform` convention call in `scikit_learn` to get the resulting DataFrame."
   ]
  },
  {
   "cell_type": "code",
   "execution_count": 8,
   "metadata": {
    "hideCode": false,
    "hidePrompt": false
   },
   "outputs": [
    {
     "data": {
      "text/html": [
       "<div>\n",
       "<style scoped>\n",
       "    .dataframe tbody tr th:only-of-type {\n",
       "        vertical-align: middle;\n",
       "    }\n",
       "\n",
       "    .dataframe tbody tr th {\n",
       "        vertical-align: top;\n",
       "    }\n",
       "\n",
       "    .dataframe thead th {\n",
       "        text-align: right;\n",
       "    }\n",
       "</style>\n",
       "<table border=\"1\" class=\"dataframe\">\n",
       "  <thead>\n",
       "    <tr style=\"text-align: right;\">\n",
       "      <th></th>\n",
       "      <th>x0</th>\n",
       "      <th>x1</th>\n",
       "      <th>x2</th>\n",
       "      <th>x3</th>\n",
       "      <th>x4</th>\n",
       "      <th>x5</th>\n",
       "      <th>x6</th>\n",
       "      <th>x7</th>\n",
       "      <th>x8</th>\n",
       "      <th>x9</th>\n",
       "      <th>x10</th>\n",
       "      <th>x11</th>\n",
       "      <th>x12</th>\n",
       "      <th>x13</th>\n",
       "    </tr>\n",
       "  </thead>\n",
       "  <tbody>\n",
       "    <tr>\n",
       "      <th>0</th>\n",
       "      <td>0.440171</td>\n",
       "      <td>-0.801052</td>\n",
       "      <td>1.347111</td>\n",
       "      <td>0.495238</td>\n",
       "      <td>0.274510</td>\n",
       "      <td>0.424020</td>\n",
       "      <td>-0.190906</td>\n",
       "      <td>0.069909</td>\n",
       "      <td>0.248101</td>\n",
       "      <td>-0.493887</td>\n",
       "      <td>0.462025</td>\n",
       "      <td>0.4592</td>\n",
       "      <td>-0.488358</td>\n",
       "      <td>0.037380</td>\n",
       "    </tr>\n",
       "    <tr>\n",
       "      <th>1</th>\n",
       "      <td>0.454955</td>\n",
       "      <td>-0.751240</td>\n",
       "      <td>0.450548</td>\n",
       "      <td>0.495238</td>\n",
       "      <td>0.452055</td>\n",
       "      <td>0.424020</td>\n",
       "      <td>-0.615536</td>\n",
       "      <td>0.069909</td>\n",
       "      <td>0.248101</td>\n",
       "      <td>-0.493887</td>\n",
       "      <td>0.430481</td>\n",
       "      <td>0.4592</td>\n",
       "      <td>-0.139591</td>\n",
       "      <td>-0.195413</td>\n",
       "    </tr>\n",
       "    <tr>\n",
       "      <th>2</th>\n",
       "      <td>0.454955</td>\n",
       "      <td>-0.167856</td>\n",
       "      <td>-0.604823</td>\n",
       "      <td>0.276074</td>\n",
       "      <td>0.274510</td>\n",
       "      <td>0.424020</td>\n",
       "      <td>-0.291083</td>\n",
       "      <td>0.069909</td>\n",
       "      <td>0.248101</td>\n",
       "      <td>-0.493887</td>\n",
       "      <td>0.462025</td>\n",
       "      <td>0.4592</td>\n",
       "      <td>0.557943</td>\n",
       "      <td>-0.195413</td>\n",
       "    </tr>\n",
       "    <tr>\n",
       "      <th>3</th>\n",
       "      <td>0.454955</td>\n",
       "      <td>-0.835667</td>\n",
       "      <td>1.355152</td>\n",
       "      <td>0.276074</td>\n",
       "      <td>0.300018</td>\n",
       "      <td>0.375064</td>\n",
       "      <td>-0.664877</td>\n",
       "      <td>0.786704</td>\n",
       "      <td>0.708475</td>\n",
       "      <td>1.769760</td>\n",
       "      <td>0.462025</td>\n",
       "      <td>0.4592</td>\n",
       "      <td>-1.069637</td>\n",
       "      <td>-0.195413</td>\n",
       "    </tr>\n",
       "    <tr>\n",
       "      <th>4</th>\n",
       "      <td>0.440171</td>\n",
       "      <td>-0.962306</td>\n",
       "      <td>0.685745</td>\n",
       "      <td>0.495238</td>\n",
       "      <td>0.351852</td>\n",
       "      <td>0.424020</td>\n",
       "      <td>-0.078768</td>\n",
       "      <td>0.786704</td>\n",
       "      <td>0.708475</td>\n",
       "      <td>2.387119</td>\n",
       "      <td>0.430481</td>\n",
       "      <td>0.4592</td>\n",
       "      <td>-0.720870</td>\n",
       "      <td>-0.165066</td>\n",
       "    </tr>\n",
       "  </tbody>\n",
       "</table>\n",
       "</div>"
      ],
      "text/plain": [
       "         x0        x1        x2        x3        x4        x5        x6  \\\n",
       "0  0.440171 -0.801052  1.347111  0.495238  0.274510  0.424020 -0.190906   \n",
       "1  0.454955 -0.751240  0.450548  0.495238  0.452055  0.424020 -0.615536   \n",
       "2  0.454955 -0.167856 -0.604823  0.276074  0.274510  0.424020 -0.291083   \n",
       "3  0.454955 -0.835667  1.355152  0.276074  0.300018  0.375064 -0.664877   \n",
       "4  0.440171 -0.962306  0.685745  0.495238  0.351852  0.424020 -0.078768   \n",
       "\n",
       "         x7        x8        x9       x10     x11       x12       x13  \n",
       "0  0.069909  0.248101 -0.493887  0.462025  0.4592 -0.488358  0.037380  \n",
       "1  0.069909  0.248101 -0.493887  0.430481  0.4592 -0.139591 -0.195413  \n",
       "2  0.069909  0.248101 -0.493887  0.462025  0.4592  0.557943 -0.195413  \n",
       "3  0.786704  0.708475  1.769760  0.462025  0.4592 -1.069637 -0.195413  \n",
       "4  0.786704  0.708475  2.387119  0.430481  0.4592 -0.720870 -0.165066  "
      ]
     },
     "execution_count": 8,
     "metadata": {},
     "output_type": "execute_result"
    }
   ],
   "source": [
    "encoder = ce.target_encoder.TargetEncoder(cols=categoricals)\n",
    "X_transformed = encoder.fit_transform(X, y)\n",
    "X_transformed.head()"
   ]
  },
  {
   "cell_type": "markdown",
   "metadata": {
    "hideCode": false,
    "hidePrompt": false
   },
   "source": [
    "Now, let's measure if our model loses some accuracy, or holds. We will use CV with our base_model, but we're passing the transformed dataframe (`X_transformed`) instead of the original one."
   ]
  },
  {
   "cell_type": "code",
   "execution_count": 9,
   "metadata": {
    "hideCode": false,
    "hidePrompt": false
   },
   "outputs": [
    {
     "name": "stdout",
     "output_type": "stream",
     "text": [
      "Accuracy: 0.865 (+/- 0.07)\n"
     ]
    }
   ],
   "source": [
    "model.fit(X_transformed, y)\n",
    "scores = cross_val_score(model, X_transformed, y, cv=5)\n",
    "print(\"Accuracy: %0.3f (+/- %0.2f)\" % (scores.mean(), scores.std() * 2))\n",
    "\n",
    "final_scores['target encoding'] = scores.mean()"
   ]
  },
  {
   "cell_type": "markdown",
   "metadata": {
    "hideCode": false,
    "hidePrompt": false
   },
   "source": [
    "I left as an exercise to check some other encoders, or even more interestingly, to use the default onehot encoding and see what is the result."
   ]
  },
  {
   "cell_type": "markdown",
   "metadata": {
    "hideCode": false,
    "hidePrompt": false
   },
   "source": [
    "### Keeping everything in order\n",
    "\n",
    "Once that I see that my new features (numeric instead of categorical) are working fine, I decide to keep my dataset updated with the new features. The best way of doing it is to create a new dataset from the resulting dataframe of the previous step, and join it with the target variable."
   ]
  },
  {
   "cell_type": "code",
   "execution_count": 10,
   "metadata": {
    "hideCode": false,
    "hidePrompt": false
   },
   "outputs": [
    {
     "data": {
      "text/html": [
       "<div>\n",
       "<style scoped>\n",
       "    .dataframe tbody tr th:only-of-type {\n",
       "        vertical-align: middle;\n",
       "    }\n",
       "\n",
       "    .dataframe tbody tr th {\n",
       "        vertical-align: top;\n",
       "    }\n",
       "\n",
       "    .dataframe thead th {\n",
       "        text-align: right;\n",
       "    }\n",
       "</style>\n",
       "<table border=\"1\" class=\"dataframe\">\n",
       "  <thead>\n",
       "    <tr style=\"text-align: right;\">\n",
       "      <th></th>\n",
       "      <th>x0</th>\n",
       "      <th>x1</th>\n",
       "      <th>x2</th>\n",
       "      <th>x3</th>\n",
       "      <th>x4</th>\n",
       "      <th>x5</th>\n",
       "      <th>x6</th>\n",
       "      <th>x7</th>\n",
       "      <th>x8</th>\n",
       "      <th>x9</th>\n",
       "      <th>x10</th>\n",
       "      <th>x11</th>\n",
       "      <th>x12</th>\n",
       "      <th>x13</th>\n",
       "      <th>x14</th>\n",
       "    </tr>\n",
       "  </thead>\n",
       "  <tbody>\n",
       "    <tr>\n",
       "      <th>0</th>\n",
       "      <td>-0.688737</td>\n",
       "      <td>-0.801052</td>\n",
       "      <td>1.347111</td>\n",
       "      <td>0.530817</td>\n",
       "      <td>-0.908439</td>\n",
       "      <td>-0.164736</td>\n",
       "      <td>-0.190906</td>\n",
       "      <td>-1.047504</td>\n",
       "      <td>-0.864196</td>\n",
       "      <td>-0.493887</td>\n",
       "      <td>1.087908</td>\n",
       "      <td>0.248893</td>\n",
       "      <td>-0.488358</td>\n",
       "      <td>0.037380</td>\n",
       "      <td>0</td>\n",
       "    </tr>\n",
       "    <tr>\n",
       "      <th>1</th>\n",
       "      <td>1.451933</td>\n",
       "      <td>-0.751240</td>\n",
       "      <td>0.450548</td>\n",
       "      <td>0.530817</td>\n",
       "      <td>0.038630</td>\n",
       "      <td>-0.164736</td>\n",
       "      <td>-0.615536</td>\n",
       "      <td>-1.047504</td>\n",
       "      <td>-0.864196</td>\n",
       "      <td>-0.493887</td>\n",
       "      <td>-0.919195</td>\n",
       "      <td>0.248893</td>\n",
       "      <td>-0.139591</td>\n",
       "      <td>-0.195413</td>\n",
       "      <td>0</td>\n",
       "    </tr>\n",
       "    <tr>\n",
       "      <th>2</th>\n",
       "      <td>1.451933</td>\n",
       "      <td>-0.167856</td>\n",
       "      <td>-0.604823</td>\n",
       "      <td>-1.761826</td>\n",
       "      <td>-0.908439</td>\n",
       "      <td>-0.164736</td>\n",
       "      <td>-0.291083</td>\n",
       "      <td>-1.047504</td>\n",
       "      <td>-0.864196</td>\n",
       "      <td>-0.493887</td>\n",
       "      <td>1.087908</td>\n",
       "      <td>0.248893</td>\n",
       "      <td>0.557943</td>\n",
       "      <td>-0.195413</td>\n",
       "      <td>0</td>\n",
       "    </tr>\n",
       "    <tr>\n",
       "      <th>3</th>\n",
       "      <td>1.451933</td>\n",
       "      <td>-0.835667</td>\n",
       "      <td>1.355152</td>\n",
       "      <td>-1.761826</td>\n",
       "      <td>-0.772373</td>\n",
       "      <td>-0.550450</td>\n",
       "      <td>-0.664877</td>\n",
       "      <td>0.954650</td>\n",
       "      <td>1.157144</td>\n",
       "      <td>1.769760</td>\n",
       "      <td>1.087908</td>\n",
       "      <td>0.248893</td>\n",
       "      <td>-1.069637</td>\n",
       "      <td>-0.195413</td>\n",
       "      <td>1</td>\n",
       "    </tr>\n",
       "    <tr>\n",
       "      <th>4</th>\n",
       "      <td>-0.688737</td>\n",
       "      <td>-0.962306</td>\n",
       "      <td>0.685745</td>\n",
       "      <td>0.530817</td>\n",
       "      <td>-0.495877</td>\n",
       "      <td>-0.164736</td>\n",
       "      <td>-0.078768</td>\n",
       "      <td>0.954650</td>\n",
       "      <td>1.157144</td>\n",
       "      <td>2.387119</td>\n",
       "      <td>-0.919195</td>\n",
       "      <td>0.248893</td>\n",
       "      <td>-0.720870</td>\n",
       "      <td>-0.165066</td>\n",
       "      <td>1</td>\n",
       "    </tr>\n",
       "  </tbody>\n",
       "</table>\n",
       "</div>"
      ],
      "text/plain": [
       "         x0        x1        x2        x3        x4        x5        x6  \\\n",
       "0 -0.688737 -0.801052  1.347111  0.530817 -0.908439 -0.164736 -0.190906   \n",
       "1  1.451933 -0.751240  0.450548  0.530817  0.038630 -0.164736 -0.615536   \n",
       "2  1.451933 -0.167856 -0.604823 -1.761826 -0.908439 -0.164736 -0.291083   \n",
       "3  1.451933 -0.835667  1.355152 -1.761826 -0.772373 -0.550450 -0.664877   \n",
       "4 -0.688737 -0.962306  0.685745  0.530817 -0.495877 -0.164736 -0.078768   \n",
       "\n",
       "         x7        x8        x9       x10       x11       x12       x13  x14  \n",
       "0 -1.047504 -0.864196 -0.493887  1.087908  0.248893 -0.488358  0.037380    0  \n",
       "1 -1.047504 -0.864196 -0.493887 -0.919195  0.248893 -0.139591 -0.195413    0  \n",
       "2 -1.047504 -0.864196 -0.493887  1.087908  0.248893  0.557943 -0.195413    0  \n",
       "3  0.954650  1.157144  1.769760  1.087908  0.248893 -1.069637 -0.195413    1  \n",
       "4  0.954650  1.157144  2.387119 -0.919195  0.248893 -0.720870 -0.165066    1  "
      ]
     },
     "execution_count": 10,
     "metadata": {},
     "output_type": "execute_result"
    }
   ],
   "source": [
    "data = dataset.from_dataframe(pd.concat([X_transformed, y], axis=1))\n",
    "data.to_numerical('x14').to_int('x14').set_target('x14')\n",
    "data.scale(method='StandardScaler')\n",
    "X = data.features\n",
    "y = data.target\n",
    "data.all.head()"
   ]
  },
  {
   "cell_type": "markdown",
   "metadata": {
    "hideCode": false,
    "hidePrompt": false
   },
   "source": [
    "## Building new features.\n",
    "\n",
    "Now I aim at gaining more expresiveness, or finding new sources of information from potential interaction effects among the features. To do so, I will experiment with Genetic Programming and the evolutionary way of finding new features.\n",
    "\n",
    "We will use the [GPLearn package](https://gplearn.readthedocs.io/en/stable/) in case you want to read a bit more about it."
   ]
  },
  {
   "cell_type": "code",
   "execution_count": 11,
   "metadata": {
    "hideCode": false,
    "hidePrompt": false
   },
   "outputs": [
    {
     "name": "stdout",
     "output_type": "stream",
     "text": [
      "    |   Population Average    |             Best Individual              |\n",
      "---- ------------------------- ------------------------------------------ ----------\n",
      " Gen   Length          Fitness   Length          Fitness      OOB Fitness  Time Left\n",
      "   0    10.81         0.135545        2         0.742362         0.536134     11.96s\n",
      "   1     5.17         0.446223        6         0.753351         0.724288     22.59s\n",
      "   2     2.89         0.685413        7         0.760509         0.666993     29.33s\n",
      "   3     2.65         0.695813        6         0.767873         0.599111     22.09s\n",
      "   4     4.46         0.660512        9         0.772357         0.562327     17.64s\n",
      "   5     6.84         0.685044        8         0.776861         0.494977     14.88s\n",
      "   6     7.22         0.692443        8         0.779001         0.488938     12.15s\n",
      "   7     8.19         0.702175        6         0.773493         0.531786      8.04s\n",
      "   8     8.58         0.706348       13         0.776119         0.512623      4.25s\n",
      "   9     8.50         0.693589        6         0.774626         0.537343      0.00s\n",
      "12 new features generated\n"
     ]
    }
   ],
   "source": [
    "function_set = ['add', 'sub', 'mul', 'div', 'sqrt', 'log',\n",
    "                'abs', 'neg', 'inv', 'max', 'min']\n",
    "gp = SymbolicTransformer(generations=10,\n",
    "                         population_size=1000,\n",
    "                         hall_of_fame=100,\n",
    "                         n_components=12,\n",
    "                         function_set=function_set,\n",
    "                         parsimony_coefficient=0.0005,\n",
    "                         max_samples=0.9,\n",
    "                         verbose=1,\n",
    "                         random_state=123,\n",
    "                         n_jobs=-1)\n",
    "gp.fit(X, y)\n",
    "gp_features = gp.transform(X)\n",
    "\n",
    "print(f'{gp_features.shape[1]} new features generated')"
   ]
  },
  {
   "cell_type": "markdown",
   "metadata": {
    "hideCode": false,
    "hidePrompt": false
   },
   "source": [
    "I don't know yet if my features will improve my model's accuracy (hope so!), but I must include these new features resulting from the last call (`gp_features`), as new columns in my dataset. The easiest way of doing it is to simply call the method `.add_column()`. But we need to build a proper dataframe with names for the new values generated."
   ]
  },
  {
   "cell_type": "code",
   "execution_count": 12,
   "metadata": {
    "hideCode": false,
    "hidePrompt": false,
    "scrolled": true
   },
   "outputs": [
    {
     "data": {
      "text/html": [
       "<div>\n",
       "<style scoped>\n",
       "    .dataframe tbody tr th:only-of-type {\n",
       "        vertical-align: middle;\n",
       "    }\n",
       "\n",
       "    .dataframe tbody tr th {\n",
       "        vertical-align: top;\n",
       "    }\n",
       "\n",
       "    .dataframe thead th {\n",
       "        text-align: right;\n",
       "    }\n",
       "</style>\n",
       "<table border=\"1\" class=\"dataframe\">\n",
       "  <thead>\n",
       "    <tr style=\"text-align: right;\">\n",
       "      <th></th>\n",
       "      <th>x0</th>\n",
       "      <th>x1</th>\n",
       "      <th>x2</th>\n",
       "      <th>x3</th>\n",
       "      <th>x4</th>\n",
       "      <th>x5</th>\n",
       "      <th>x6</th>\n",
       "      <th>x7</th>\n",
       "      <th>x8</th>\n",
       "      <th>x9</th>\n",
       "      <th>...</th>\n",
       "      <th>gp2</th>\n",
       "      <th>gp3</th>\n",
       "      <th>gp4</th>\n",
       "      <th>gp5</th>\n",
       "      <th>gp6</th>\n",
       "      <th>gp7</th>\n",
       "      <th>gp8</th>\n",
       "      <th>gp9</th>\n",
       "      <th>gp10</th>\n",
       "      <th>gp11</th>\n",
       "    </tr>\n",
       "  </thead>\n",
       "  <tbody>\n",
       "    <tr>\n",
       "      <th>0</th>\n",
       "      <td>-0.688737</td>\n",
       "      <td>-0.801052</td>\n",
       "      <td>1.347111</td>\n",
       "      <td>0.530817</td>\n",
       "      <td>-0.908439</td>\n",
       "      <td>-0.164736</td>\n",
       "      <td>-0.190906</td>\n",
       "      <td>-1.047504</td>\n",
       "      <td>-0.864196</td>\n",
       "      <td>-0.493887</td>\n",
       "      <td>...</td>\n",
       "      <td>-1.028496</td>\n",
       "      <td>-1.028496</td>\n",
       "      <td>-1.028496</td>\n",
       "      <td>-1.028496</td>\n",
       "      <td>-1.028496</td>\n",
       "      <td>-1.028496</td>\n",
       "      <td>-1.028496</td>\n",
       "      <td>-1.028496</td>\n",
       "      <td>1.028496</td>\n",
       "      <td>-1.028496</td>\n",
       "    </tr>\n",
       "    <tr>\n",
       "      <th>1</th>\n",
       "      <td>1.451933</td>\n",
       "      <td>-0.751240</td>\n",
       "      <td>0.450548</td>\n",
       "      <td>0.530817</td>\n",
       "      <td>0.038630</td>\n",
       "      <td>-0.164736</td>\n",
       "      <td>-0.615536</td>\n",
       "      <td>-1.047504</td>\n",
       "      <td>-0.864196</td>\n",
       "      <td>-0.493887</td>\n",
       "      <td>...</td>\n",
       "      <td>-1.028496</td>\n",
       "      <td>-1.028496</td>\n",
       "      <td>-1.028496</td>\n",
       "      <td>-1.028496</td>\n",
       "      <td>-1.028496</td>\n",
       "      <td>-1.028496</td>\n",
       "      <td>-1.028496</td>\n",
       "      <td>-1.028496</td>\n",
       "      <td>1.028496</td>\n",
       "      <td>-1.028496</td>\n",
       "    </tr>\n",
       "    <tr>\n",
       "      <th>2</th>\n",
       "      <td>1.451933</td>\n",
       "      <td>-0.167856</td>\n",
       "      <td>-0.604823</td>\n",
       "      <td>-1.761826</td>\n",
       "      <td>-0.908439</td>\n",
       "      <td>-0.164736</td>\n",
       "      <td>-0.291083</td>\n",
       "      <td>-1.047504</td>\n",
       "      <td>-0.864196</td>\n",
       "      <td>-0.493887</td>\n",
       "      <td>...</td>\n",
       "      <td>-1.028496</td>\n",
       "      <td>-1.028496</td>\n",
       "      <td>-1.028496</td>\n",
       "      <td>-1.028496</td>\n",
       "      <td>-1.028496</td>\n",
       "      <td>-1.028496</td>\n",
       "      <td>-1.028496</td>\n",
       "      <td>-1.028496</td>\n",
       "      <td>1.028496</td>\n",
       "      <td>-1.028496</td>\n",
       "    </tr>\n",
       "    <tr>\n",
       "      <th>3</th>\n",
       "      <td>1.451933</td>\n",
       "      <td>-0.835667</td>\n",
       "      <td>1.355152</td>\n",
       "      <td>-1.761826</td>\n",
       "      <td>-0.772373</td>\n",
       "      <td>-0.550450</td>\n",
       "      <td>-0.664877</td>\n",
       "      <td>0.954650</td>\n",
       "      <td>1.157144</td>\n",
       "      <td>1.769760</td>\n",
       "      <td>...</td>\n",
       "      <td>1.137569</td>\n",
       "      <td>1.137569</td>\n",
       "      <td>1.137569</td>\n",
       "      <td>1.137569</td>\n",
       "      <td>1.137569</td>\n",
       "      <td>1.137569</td>\n",
       "      <td>1.137569</td>\n",
       "      <td>1.137569</td>\n",
       "      <td>-1.137569</td>\n",
       "      <td>1.137569</td>\n",
       "    </tr>\n",
       "    <tr>\n",
       "      <th>4</th>\n",
       "      <td>-0.688737</td>\n",
       "      <td>-0.962306</td>\n",
       "      <td>0.685745</td>\n",
       "      <td>0.530817</td>\n",
       "      <td>-0.495877</td>\n",
       "      <td>-0.164736</td>\n",
       "      <td>-0.078768</td>\n",
       "      <td>0.954650</td>\n",
       "      <td>1.157144</td>\n",
       "      <td>2.387119</td>\n",
       "      <td>...</td>\n",
       "      <td>1.137569</td>\n",
       "      <td>1.137569</td>\n",
       "      <td>1.137569</td>\n",
       "      <td>1.137569</td>\n",
       "      <td>1.137569</td>\n",
       "      <td>1.137569</td>\n",
       "      <td>1.137569</td>\n",
       "      <td>1.137569</td>\n",
       "      <td>-1.137569</td>\n",
       "      <td>1.137569</td>\n",
       "    </tr>\n",
       "  </tbody>\n",
       "</table>\n",
       "<p>5 rows × 26 columns</p>\n",
       "</div>"
      ],
      "text/plain": [
       "         x0        x1        x2        x3        x4        x5        x6  \\\n",
       "0 -0.688737 -0.801052  1.347111  0.530817 -0.908439 -0.164736 -0.190906   \n",
       "1  1.451933 -0.751240  0.450548  0.530817  0.038630 -0.164736 -0.615536   \n",
       "2  1.451933 -0.167856 -0.604823 -1.761826 -0.908439 -0.164736 -0.291083   \n",
       "3  1.451933 -0.835667  1.355152 -1.761826 -0.772373 -0.550450 -0.664877   \n",
       "4 -0.688737 -0.962306  0.685745  0.530817 -0.495877 -0.164736 -0.078768   \n",
       "\n",
       "         x7        x8        x9  ...       gp2       gp3       gp4       gp5  \\\n",
       "0 -1.047504 -0.864196 -0.493887  ... -1.028496 -1.028496 -1.028496 -1.028496   \n",
       "1 -1.047504 -0.864196 -0.493887  ... -1.028496 -1.028496 -1.028496 -1.028496   \n",
       "2 -1.047504 -0.864196 -0.493887  ... -1.028496 -1.028496 -1.028496 -1.028496   \n",
       "3  0.954650  1.157144  1.769760  ...  1.137569  1.137569  1.137569  1.137569   \n",
       "4  0.954650  1.157144  2.387119  ...  1.137569  1.137569  1.137569  1.137569   \n",
       "\n",
       "        gp6       gp7       gp8       gp9      gp10      gp11  \n",
       "0 -1.028496 -1.028496 -1.028496 -1.028496  1.028496 -1.028496  \n",
       "1 -1.028496 -1.028496 -1.028496 -1.028496  1.028496 -1.028496  \n",
       "2 -1.028496 -1.028496 -1.028496 -1.028496  1.028496 -1.028496  \n",
       "3  1.137569  1.137569  1.137569  1.137569 -1.137569  1.137569  \n",
       "4  1.137569  1.137569  1.137569  1.137569 -1.137569  1.137569  \n",
       "\n",
       "[5 rows x 26 columns]"
      ]
     },
     "execution_count": 12,
     "metadata": {},
     "output_type": "execute_result"
    }
   ],
   "source": [
    "# Build a dataframe from the set of best new features generated.\n",
    "new_dataframe = pd.DataFrame(gp_features)\n",
    "# Set the name of the dataframe columns as 'gp#' where # is a number.\n",
    "new_dataframe.columns = ['gp{}'.format(i) for i in range(len(list(new_dataframe)))]\n",
    "\n",
    "# Add the new dataframe as new columns of my dataset (update the variable X)\n",
    "data.add_columns(new_dataframe)\n",
    "data.scale(method='StandardScaler')\n",
    "X = data.features\n",
    "\n",
    "# Show it\n",
    "data.features.head()"
   ]
  },
  {
   "cell_type": "code",
   "execution_count": 13,
   "metadata": {
    "hideCode": false,
    "hidePrompt": false
   },
   "outputs": [
    {
     "name": "stdout",
     "output_type": "stream",
     "text": [
      "26 Features. 690 Samples\n",
      "Available types: [dtype('float64')]\n",
      "  · 0 categorical features\n",
      "  · 26 numerical features\n",
      "  · 0 categorical features with NAs\n",
      "  · 0 numerical features with NAs\n",
      "  · 27 Complete features\n",
      "--\n",
      "Target: x14 (int64)\n",
      "'x14'\n",
      "  · Min.: 0.0000\n",
      "  · 1stQ: 0.0000\n",
      "  · Med.: 0.0000\n",
      "  · Mean: 0.4449\n",
      "  · 3rdQ: 1.0000\n",
      "  · Max.: 1.0000\n"
     ]
    }
   ],
   "source": [
    "data.describe()"
   ]
  },
  {
   "cell_type": "code",
   "execution_count": 14,
   "metadata": {
    "hideCode": false,
    "hidePrompt": false
   },
   "outputs": [
    {
     "name": "stdout",
     "output_type": "stream",
     "text": [
      "Accuracy: 0.868 (+/- 0.08)\n"
     ]
    }
   ],
   "source": [
    "model.fit(X, y)\n",
    "scores = cross_val_score(model, X, y, cv=5)\n",
    "print(\"Accuracy: %0.3f (+/- %0.2f)\" % (scores.mean(), scores.std() * 2))\n",
    "\n",
    "final_scores['new features'] = scores.mean()"
   ]
  },
  {
   "cell_type": "markdown",
   "metadata": {
    "hideCode": false,
    "hidePrompt": false
   },
   "source": [
    "No big impact after adding lots of features. Maybe we've too much noise in the model and we must filter out some of them, or this process is not capable of adding extra information to the modeling task\n",
    "\n",
    "## Filter features\n",
    "\n",
    "Let's filter out some features, as our model is now 26-dimensional and the accuracy is kept under the same values.\n",
    "\n",
    "### RelieF\n",
    "\n",
    "I will try [Relief](https://github.com/EpistasisLab/scikit-rebate) (`pip install skrebate`) and Permutation importance."
   ]
  },
  {
   "cell_type": "code",
   "execution_count": 15,
   "metadata": {
    "hideCode": false,
    "hidePrompt": false
   },
   "outputs": [],
   "source": [
    "fs = ReliefF(n_features_to_select=10, n_neighbors=100)\n",
    "X_filtered = fs.fit_transform(X.values, y.values)"
   ]
  },
  {
   "cell_type": "code",
   "execution_count": 16,
   "metadata": {
    "hideCode": false,
    "hidePrompt": false
   },
   "outputs": [
    {
     "name": "stdout",
     "output_type": "stream",
     "text": [
      "Accuracy: 0.855 (+/- 0.07)\n"
     ]
    }
   ],
   "source": [
    "model.fit(X_filtered, y)\n",
    "scores = cross_val_score(model, X_filtered, y, cv=5)\n",
    "print(\"Accuracy: %0.3f (+/- %0.2f)\" % (scores.mean(), scores.std() * 2))"
   ]
  },
  {
   "cell_type": "markdown",
   "metadata": {
    "hideCode": false,
    "hidePrompt": false
   },
   "source": [
    "It's a bit impressive how if we remove 16 out of 26 features we still can get roughly the same accuracy (with even lower variance!). Let's now try something more visual. We don't know if 10 was the best possible option in this exercise, so let's try to find out what is the optimal set of features to select in RelieF."
   ]
  },
  {
   "cell_type": "code",
   "execution_count": 18,
   "metadata": {},
   "outputs": [],
   "source": [
    "scores = []\n",
    "param_range = range(1, X.shape[1])\n",
    "max_score = -1.0\n",
    "for num_features in param_range:\n",
    "    fs = ReliefF(n_features_to_select=num_features, n_neighbors=25)\n",
    "    X_filtered = fs.fit_transform(X.values, y.values)\n",
    "    model.fit(X_filtered, y)\n",
    "    score = cross_val_score(model, X_filtered, y, cv=5)\n",
    "    scores.append(score.mean())\n",
    "    if score.mean() > max_score:\n",
    "        max_score = score.mean()\n",
    "        \n",
    "final_scores['relief'] = max_score"
   ]
  },
  {
   "cell_type": "code",
   "execution_count": 19,
   "metadata": {
    "code_folding": [
     0
    ]
   },
   "outputs": [
    {
     "data": {
      "image/png": "[encoded data removed]",
      "text/plain": [
       "<Figure size 432x288 with 1 Axes>"
      ]
     },
     "metadata": {
      "needs_background": "light"
     },
     "output_type": "display_data"
    }
   ],
   "source": [
    "# Plot the scores\n",
    "plt.figure(figsize=(6, 4))\n",
    "plt.scatter(range(len(scores)), scores)\n",
    "plt.xticks(range(len(scores)), [f'{a:.2g}' for a in param_range])\n",
    "plt.xticks(fontsize=8, rotation=90)\n",
    "plt.ylabel('Accuracy')\n",
    "plt.xlabel('Num. of features')\n",
    "plt.title('Effect of num faetures on accuracy')\n",
    "plt.grid(axis='both')\n",
    "plt.tight_layout()\n",
    "plt.show()"
   ]
  },
  {
   "cell_type": "markdown",
   "metadata": {},
   "source": [
    "So, let's use the number of features that produce the max accuracy and re-evaluate our model!\n",
    "\n",
    "### Permutation importance\n",
    "\n",
    "Let's try now with permutation importance. We will use the trained model with all the features."
   ]
  },
  {
   "cell_type": "code",
   "execution_count": 20,
   "metadata": {
    "hideCode": false,
    "hidePrompt": false
   },
   "outputs": [],
   "source": [
    "model.fit(X, y)\n",
    "r = permutation_importance(model, X, y, n_repeats=30, random_state=0)\n",
    "\n",
    "# Importances in descending order\n",
    "imp_indexes = r.importances_mean.argsort()[::-1]\n",
    "imp_labels  = [data.feature_names[i] for i in imp_indexes]\n",
    "imp_values  = [r.importances_mean[i] for i in imp_indexes]\n",
    "imp_std     = [r.importances_std[i] for i in imp_indexes]"
   ]
  },
  {
   "cell_type": "markdown",
   "metadata": {
    "hideCode": false,
    "hidePrompt": false
   },
   "source": [
    "Plot the importances obtained to see what is the situation more clearly."
   ]
  },
  {
   "cell_type": "code",
   "execution_count": 21,
   "metadata": {
    "code_folding": [
     0
    ],
    "hideCode": false,
    "hidePrompt": false
   },
   "outputs": [
    {
     "data": {
      "image/png": "[encoded data removed]",
      "text/plain": [
       "<Figure size 720x216 with 1 Axes>"
      ]
     },
     "metadata": {
      "needs_background": "light"
     },
     "output_type": "display_data"
    }
   ],
   "source": [
    "# Plot the permutation importance of the features\n",
    "fig, ax = plt.subplots()\n",
    "fig.set_size_inches(10,3)\n",
    "ax.bar(range(len(imp_indexes)), imp_values,  yerr=imp_std, \n",
    "       align='center', alpha=0.5, ecolor='black', capsize=0)\n",
    "ax.set_ylabel('Permutation importance')\n",
    "ax.set_xticks(range(len(imp_indexes)))\n",
    "ax.set_xticklabels(imp_labels)\n",
    "ax.set_title('Permutation importance of features')\n",
    "ax.yaxis.grid(True)\n",
    "plt.tight_layout()\n",
    "plt.show()"
   ]
  },
  {
   "cell_type": "markdown",
   "metadata": {
    "hideCode": false,
    "hidePrompt": false
   },
   "source": [
    "As we can see, most of them present a very low _permutation importance_ which means that when shuffling its content along the dataset it doesn't really impact the final accuracy metric obtained. We can easily infer from this, that we can skip most of them.\n",
    "\n",
    "We will try to keep only the top-3 features and see what is the final accuracy of the model."
   ]
  },
  {
   "cell_type": "code",
   "execution_count": 22,
   "metadata": {
    "hideCode": false,
    "hidePrompt": false
   },
   "outputs": [
    {
     "name": "stdout",
     "output_type": "stream",
     "text": [
      "Accuracy: 0.861 (+/- 0.07)\n"
     ]
    }
   ],
   "source": [
    "num_features = 3\n",
    "X_selected = []\n",
    "importances = r.importances_mean.argsort()[::-1] # reverse order array\n",
    "for i in importances[:num_features]:             # take only the first num_feats\n",
    "    X_selected.append(data.feature_names[i])\n",
    "\n",
    "# And now, fit the model with those features and score it with CV.\n",
    "model.fit(data.select(X_selected), y)\n",
    "scores = cross_val_score(model, data.select(X_selected), y, cv=5)\n",
    "print(\"Accuracy: %0.3f (+/- %0.2f)\" % (scores.mean(), scores.std() * 2))"
   ]
  },
  {
   "cell_type": "markdown",
   "metadata": {},
   "source": [
    "But, again, randomly guessing if 3 is the best nr of features is not acceptable most of the times. We must build a simple loop that will try every possible nr of features (within a reasonable range) to get to the conclussion of what is the best number to be used.\n",
    "\n",
    "Let's do that. I will loop through a number of features between 1 and 15. I will build a dataframe at each iteration with only the top most `num_features` important features, and I will use them to evaluate the model. Finally I will plot the result."
   ]
  },
  {
   "cell_type": "code",
   "execution_count": 24,
   "metadata": {},
   "outputs": [],
   "source": [
    "scores = []\n",
    "param_range = range(1, 15)\n",
    "importances = r.importances_mean.argsort()[::-1] # reverse order array\n",
    "max_score = -1.0\n",
    "for num_features in param_range:\n",
    "    X_filtered = pd.DataFrame()\n",
    "    for i in importances[:num_features]:\n",
    "        column_name = data.feature_names[importances[i]]\n",
    "        column_data = data.features[column_name]\n",
    "        X_filtered[column_name] = column_data\n",
    "    model.fit(X_filtered, y)\n",
    "    score = cross_val_score(model, X_filtered, y, cv=5)\n",
    "    scores.append(score.mean())\n",
    "    if score.mean() > max_score:\n",
    "        max_score = score.mean()\n",
    "        \n",
    "final_scores['permutation importance'] = max_score"
   ]
  },
  {
   "cell_type": "code",
   "execution_count": 25,
   "metadata": {
    "code_folding": [
     0
    ]
   },
   "outputs": [
    {
     "data": {
      "image/png": "[encoded data removed]",
      "text/plain": [
       "<Figure size 432x288 with 1 Axes>"
      ]
     },
     "metadata": {
      "needs_background": "light"
     },
     "output_type": "display_data"
    }
   ],
   "source": [
    "# Plot the scores\n",
    "plt.figure(figsize=(6, 4))\n",
    "plt.scatter(range(len(scores)), scores)\n",
    "plt.xticks(range(len(scores)), [f'{a:.2g}' for a in param_range])\n",
    "plt.xticks(fontsize=8, rotation=90)\n",
    "plt.ylabel('Accuracy')\n",
    "plt.xlabel('Num. of features')\n",
    "plt.title('Effect of num faetures on accuracy')\n",
    "plt.grid(axis='both')\n",
    "plt.tight_layout()\n",
    "plt.show()"
   ]
  },
  {
   "cell_type": "markdown",
   "metadata": {
    "hideCode": false,
    "hidePrompt": false
   },
   "source": [
    "A model with 9 features if performing really well. So we stick with that. We can see that from our GP experiment that produced 26 features in our dataset and .87 accuracy value, we can remove 15 of those features and get the very same result.\n",
    "\n",
    "### Regularization $ \\ell_1$\n",
    "\n",
    "We still have a final approach which is regulariation. We must select the value of lambda which produces the best posible performance for our model. This parameter controls how much penalty is added to our model (logistic regression with $ \\ell_1 $). "
   ]
  },
  {
   "cell_type": "code",
   "execution_count": 26,
   "metadata": {
    "hideCode": false,
    "hidePrompt": false
   },
   "outputs": [],
   "source": [
    "alpha_range = [10**x for x in np.arange(-3, 1, 0.25)]\n",
    "l1_scores = []\n",
    "for alpha in alpha_range:\n",
    "    model = LogisticRegression(penalty='l1', solver='liblinear', C=alpha)\n",
    "    model.fit(X, y)\n",
    "    score = cross_val_score(model, X, y, cv=5)\n",
    "    l1_scores.append(score.mean())"
   ]
  },
  {
   "cell_type": "code",
   "execution_count": 27,
   "metadata": {
    "code_folding": [
     0
    ],
    "hideCode": false,
    "hidePrompt": false
   },
   "outputs": [
    {
     "data": {
      "image/png": "[encoded data removed]",
      "text/plain": [
       "<Figure size 432x288 with 1 Axes>"
      ]
     },
     "metadata": {
      "needs_background": "light"
     },
     "output_type": "display_data"
    }
   ],
   "source": [
    "# Plot the scores\n",
    "plt.figure(figsize=(6, 4))\n",
    "plt.scatter(range(len(l1_scores)), l1_scores)\n",
    "plt.xticks(range(len(l1_scores)), [f'{a:.2g}' for a in alpha_range])\n",
    "plt.xticks(fontsize=8, rotation=90)\n",
    "plt.ylabel('Accuracy')\n",
    "plt.xlabel('Regularization $\\lambda$ (C)')\n",
    "plt.title('Effect of $\\lambda$ on Log. Regression Accuracy')\n",
    "plt.grid(axis='both')\n",
    "plt.tight_layout()\n",
    "plt.show()"
   ]
  },
  {
   "cell_type": "markdown",
   "metadata": {
    "hideCode": false,
    "hidePrompt": false
   },
   "source": [
    "From the plot above, we can infer that we must use a value of regularization that is greater than 3.2e-02.\n",
    "\n",
    "So, let's measure our model with the C that results in the maximum accuracy to validate our result."
   ]
  },
  {
   "cell_type": "code",
   "execution_count": 28,
   "metadata": {
    "hideCode": false,
    "hidePrompt": false
   },
   "outputs": [
    {
     "name": "stdout",
     "output_type": "stream",
     "text": [
      "Max C is 0.56 at position 11\n"
     ]
    }
   ],
   "source": [
    "index_of_Cmax = np.argmax(l1_scores)\n",
    "C_max = alpha_range[index_of_Cmax]\n",
    "print(f'Max C is {C_max:.2g} at position {index_of_Cmax}')"
   ]
  },
  {
   "cell_type": "code",
   "execution_count": 29,
   "metadata": {
    "hideCode": false,
    "hidePrompt": false
   },
   "outputs": [
    {
     "name": "stdout",
     "output_type": "stream",
     "text": [
      "Accuracy: 0.87 (+/- 0.08)\n"
     ]
    }
   ],
   "source": [
    "model = LogisticRegression(penalty='l1', solver='liblinear', C=C_max)\n",
    "model.fit(X, y)\n",
    "scores = cross_val_score(model, X, y, cv=5)\n",
    "print(\"Accuracy: %0.2f (+/- %0.2f)\" % (scores.mean(), scores.std() * 2))\n",
    "\n",
    "final_scores['regularization'] = scores.mean()"
   ]
  },
  {
   "cell_type": "markdown",
   "metadata": {
    "hideCode": false,
    "hidePrompt": false
   },
   "source": [
    "Let's plot the coefficients of the model in decreasing importance to know what are the features that are more important for the model."
   ]
  },
  {
   "cell_type": "code",
   "execution_count": 30,
   "metadata": {
    "hideCode": false,
    "hidePrompt": false
   },
   "outputs": [],
   "source": [
    "# Importances in descending order\n",
    "coefs = model.coef_[0]\n",
    "imp_indexes = coefs.argsort()[::-1]\n",
    "imp_labels  = [data.feature_names[i] for i in imp_indexes]\n",
    "imp_values  = [coefs[i] for i in imp_indexes]"
   ]
  },
  {
   "cell_type": "code",
   "execution_count": 31,
   "metadata": {
    "code_folding": [
     0
    ],
    "hideCode": false,
    "hidePrompt": false
   },
   "outputs": [
    {
     "data": {
      "image/png": "[encoded data removed]",
      "text/plain": [
       "<Figure size 720x216 with 1 Axes>"
      ]
     },
     "metadata": {
      "needs_background": "light"
     },
     "output_type": "display_data"
    }
   ],
   "source": [
    "# Plot the coefficients importance of the features\n",
    "fig, ax = plt.subplots()\n",
    "fig.set_size_inches(10,3)\n",
    "ax.bar(range(len(imp_indexes)), imp_values,  yerr=imp_std, \n",
    "       align='center', alpha=0.5, ecolor='black', capsize=0)\n",
    "ax.set_ylabel('LR Coefficient')\n",
    "ax.set_xticks(range(len(imp_indexes)))\n",
    "ax.set_xticklabels(imp_labels)\n",
    "ax.set_title('Features importance from LR coefficients')\n",
    "ax.yaxis.grid(True)\n",
    "plt.tight_layout()\n",
    "plt.show()"
   ]
  },
  {
   "cell_type": "markdown",
   "metadata": {},
   "source": [
    "## Summary\n",
    "\n",
    "Let's plot the summary of our techiques by plotting the CV score obtained after applying each individual technique."
   ]
  },
  {
   "cell_type": "code",
   "execution_count": 47,
   "metadata": {},
   "outputs": [
    {
     "data": {
      "image/png": "[encoded data removed]",
      "text/plain": [
       "<Figure size 432x288 with 1 Axes>"
      ]
     },
     "metadata": {
      "needs_background": "light"
     },
     "output_type": "display_data"
    }
   ],
   "source": [
    "techniques = list(final_scores.keys())\n",
    "y_pos = np.arange(len(techniques))\n",
    "performance = list(final_scores.values())\n",
    "\n",
    "fig, ax = plt.subplots()\n",
    "ax.barh(y_pos, performance, alpha=0.5, align='center')\n",
    "ax.set_yticks(y_pos)\n",
    "ax.set_yticklabels(techniques)\n",
    "ax.invert_yaxis()\n",
    "ax.set_xlabel('Performance')\n",
    "ax.set_xlim(0.85, 0.88)\n",
    "ax.set_title('Summary of FE techniques')\n",
    "\n",
    "plt.show()"
   ]
  }
 ],
 "metadata": {
  "hide_code_all_hidden": false,
  "kernelspec": {
   "display_name": "Python 3",
   "language": "python",
   "name": "python3"
  },
  "language_info": {
   "codemirror_mode": {
    "name": "ipython",
    "version": 3
   },
   "file_extension": ".py",
   "mimetype": "text/x-python",
   "name": "python",
   "nbconvert_exporter": "python",
   "pygments_lexer": "ipython3",
   "version": "3.7.6"
  },
  "toc": {
   "base_numbering": 1,
   "nav_menu": {
    "height": "259px",
    "width": "303px"
   },
   "number_sections": true,
   "sideBar": true,
   "skip_h1_title": false,
   "title_cell": "Table of Contents",
   "title_sidebar": "Contents",
   "toc_cell": true,
   "toc_position": {
    "height": "calc(100% - 180px)",
    "left": "10px",
    "top": "150px",
    "width": "257.4px"
   },
   "toc_section_display": true,
   "toc_window_display": true
  }
 },
 "nbformat": 4,
 "nbformat_minor": 4
}
