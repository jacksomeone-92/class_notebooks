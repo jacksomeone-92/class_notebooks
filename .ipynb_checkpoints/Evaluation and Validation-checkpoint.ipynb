{
 "cells": [
  {
   "cell_type": "markdown",
   "metadata": {
    "slideshow": {
     "slide_type": "slide"
    },
    "toc": true
   },
   "source": [
    "<h1>Table of Contents<span class=\"tocSkip\"></span></h1>\n",
    "<div class=\"toc\"><ul class=\"toc-item\"><li><span><a href=\"#Evaluating-Classification-Models:-Inbalanced-datasets\" data-toc-modified-id=\"Evaluating-Classification-Models:-Inbalanced-datasets-1\"><span class=\"toc-item-num\">1&nbsp;&nbsp;</span>Evaluating Classification Models: Inbalanced datasets</a></span><ul class=\"toc-item\"><li><span><a href=\"#Modify-the-dataset-to-unbalance-it.\" data-toc-modified-id=\"Modify-the-dataset-to-unbalance-it.-1.1\"><span class=\"toc-item-num\">1.1&nbsp;&nbsp;</span>Modify the dataset to unbalance it.</a></span></li><li><span><a href=\"#Baseline-the-unbalanced-dataset\" data-toc-modified-id=\"Baseline-the-unbalanced-dataset-1.2\"><span class=\"toc-item-num\">1.2&nbsp;&nbsp;</span>Baseline the unbalanced dataset</a></span></li><li><span><a href=\"#Evaluation-function\" data-toc-modified-id=\"Evaluation-function-1.3\"><span class=\"toc-item-num\">1.3&nbsp;&nbsp;</span>Evaluation function</a></span></li><li><span><a href=\"#Oversampling\" data-toc-modified-id=\"Oversampling-1.4\"><span class=\"toc-item-num\">1.4&nbsp;&nbsp;</span>Oversampling</a></span><ul class=\"toc-item\"><li><span><a href=\"#Random-oversampling\" data-toc-modified-id=\"Random-oversampling-1.4.1\"><span class=\"toc-item-num\">1.4.1&nbsp;&nbsp;</span>Random oversampling</a></span></li><li><span><a href=\"#SMOTE-informed-oversampling\" data-toc-modified-id=\"SMOTE-informed-oversampling-1.4.2\"><span class=\"toc-item-num\">1.4.2&nbsp;&nbsp;</span>SMOTE <em>informed</em> oversampling</a></span></li></ul></li><li><span><a href=\"#Undersampling\" data-toc-modified-id=\"Undersampling-1.5\"><span class=\"toc-item-num\">1.5&nbsp;&nbsp;</span>Undersampling</a></span><ul class=\"toc-item\"><li><span><a href=\"#Random-undersampling\" data-toc-modified-id=\"Random-undersampling-1.5.1\"><span class=\"toc-item-num\">1.5.1&nbsp;&nbsp;</span>Random undersampling</a></span></li><li><span><a href=\"#Near-miss-(Tomek-Links)-informed-undersampling\" data-toc-modified-id=\"Near-miss-(Tomek-Links)-informed-undersampling-1.5.2\"><span class=\"toc-item-num\">1.5.2&nbsp;&nbsp;</span>Near miss (Tomek Links) <em>informed</em> undersampling</a></span></li></ul></li><li><span><a href=\"#Summary-of-results\" data-toc-modified-id=\"Summary-of-results-1.6\"><span class=\"toc-item-num\">1.6&nbsp;&nbsp;</span>Summary of results</a></span></li><li><span><a href=\"#Continue-reading...\" data-toc-modified-id=\"Continue-reading...-1.7\"><span class=\"toc-item-num\">1.7&nbsp;&nbsp;</span>Continue reading...</a></span></li></ul></li><li><span><a href=\"#Evaluation-of-probability-models-with-log-likelihood\" data-toc-modified-id=\"Evaluation-of-probability-models-with-log-likelihood-2\"><span class=\"toc-item-num\">2&nbsp;&nbsp;</span>Evaluation of probability models with log likelihood</a></span><ul class=\"toc-item\"><li><span><a href=\"#The-NULL-Model\" data-toc-modified-id=\"The-NULL-Model-2.1\"><span class=\"toc-item-num\">2.1&nbsp;&nbsp;</span>The NULL Model</a></span></li><li><span><a href=\"#The-log-likelihood-of-our-model\" data-toc-modified-id=\"The-log-likelihood-of-our-model-2.2\"><span class=\"toc-item-num\">2.2&nbsp;&nbsp;</span>The log likelihood of our model</a></span></li></ul></li><li><span><a href=\"#Cross-Validation\" data-toc-modified-id=\"Cross-Validation-3\"><span class=\"toc-item-num\">3&nbsp;&nbsp;</span>Cross Validation</a></span><ul class=\"toc-item\"><li><span><a href=\"#CV-with-unbalanced-dataset\" data-toc-modified-id=\"CV-with-unbalanced-dataset-3.1\"><span class=\"toc-item-num\">3.1&nbsp;&nbsp;</span>CV with unbalanced dataset</a></span><ul class=\"toc-item\"><li><span><a href=\"#Incorrect-oversampling\" data-toc-modified-id=\"Incorrect-oversampling-3.1.1\"><span class=\"toc-item-num\">3.1.1&nbsp;&nbsp;</span>Incorrect oversampling</a></span></li></ul></li></ul></li><li><span><a href=\"#Bootstrapping\" data-toc-modified-id=\"Bootstrapping-4\"><span class=\"toc-item-num\">4&nbsp;&nbsp;</span>Bootstrapping</a></span><ul class=\"toc-item\"><li><span><a href=\"#Bootstrap-the-unbalanced-dataset\" data-toc-modified-id=\"Bootstrap-the-unbalanced-dataset-4.1\"><span class=\"toc-item-num\">4.1&nbsp;&nbsp;</span>Bootstrap the unbalanced dataset</a></span></li><li><span><a href=\"#Compare-bootstrapping-and-CV\" data-toc-modified-id=\"Compare-bootstrapping-and-CV-4.2\"><span class=\"toc-item-num\">4.2&nbsp;&nbsp;</span>Compare bootstrapping and CV</a></span></li><li><span><a href=\"#Validate-model-trained-with-oversampling-(SMOTE)\" data-toc-modified-id=\"Validate-model-trained-with-oversampling-(SMOTE)-4.3\"><span class=\"toc-item-num\">4.3&nbsp;&nbsp;</span>Validate model trained with oversampling (SMOTE)</a></span></li></ul></li><li><span><a href=\"#Significance-Tests\" data-toc-modified-id=\"Significance-Tests-5\"><span class=\"toc-item-num\">5&nbsp;&nbsp;</span>Significance Tests</a></span><ul class=\"toc-item\"><li><span><a href=\"#Iterative-validation-process\" data-toc-modified-id=\"Iterative-validation-process-5.1\"><span class=\"toc-item-num\">5.1&nbsp;&nbsp;</span>Iterative validation process</a></span></li><li><span><a href=\"#Significance-tests\" data-toc-modified-id=\"Significance-tests-5.2\"><span class=\"toc-item-num\">5.2&nbsp;&nbsp;</span>Significance tests</a></span></li></ul></li></ul></div>"
   ]
  },
  {
   "cell_type": "code",
   "execution_count": 90,
   "metadata": {
    "code_folding": [
     0
    ],
    "hide_input": false,
    "slideshow": {
     "slide_type": "slide"
    }
   },
   "outputs": [],
   "source": [
    "# Headers \n",
    "\n",
    "import random\n",
    "import seaborn as sns\n",
    "import pandas as pd\n",
    "import matplotlib.pyplot as plt\n",
    "import numpy as np\n",
    "\n",
    "from copy import copy\n",
    "from collections import Counter\n",
    "from dataset import Dataset as dataset\n",
    "from imblearn.under_sampling import RandomUnderSampler\n",
    "from imblearn.over_sampling import RandomOverSampler, SMOTE\n",
    "from imblearn.under_sampling import NearMiss\n",
    "from scipy.stats import kruskal\n",
    "from sklearn.linear_model import LogisticRegression\n",
    "from sklearn.model_selection import StratifiedShuffleSplit\n",
    "from sklearn.model_selection import cross_val_score, StratifiedKFold\n",
    "from sklearn.metrics import accuracy_score, f1_score, recall_score, matthews_corrcoef\n",
    "from sklearn.pipeline import Pipeline\n",
    "from sklearn.utils import resample\n",
    "from tqdm import tqdm_notebook\n",
    "from typing import List\n",
    "\n",
    "\n",
    "# This line is important if you want your results to be reproducible\n",
    "np.random.seed(666)"
   ]
  },
  {
   "cell_type": "markdown",
   "metadata": {
    "slideshow": {
     "slide_type": "slide"
    }
   },
   "source": [
    "# Evaluating Classification Models: Inbalanced datasets\n",
    "\n",
    "You can find many more resources online about the topic, like, for example, [this one](https://towardsdatascience.com/fighting-imbalance-data-set-with-code-examples-f2a3880700a6), or [this other](https://towardsdatascience.com/methods-for-dealing-with-imbalanced-data-5b761be45a18), which summarize very well the idea behind the technique.\n",
    "\n",
    "We use the same dataset as in previous lesson, and perform the same set of transformations to build a mixed numerical and categorical set of features."
   ]
  },
  {
   "cell_type": "code",
   "execution_count": 91,
   "metadata": {
    "slideshow": {
     "slide_type": "fragment"
    }
   },
   "outputs": [
    {
     "data": {
      "text/plain": [
       "<dataset.dataset.Dataset at 0x1382b3640>"
      ]
     },
     "execution_count": 91,
     "metadata": {},
     "output_type": "execute_result"
    }
   ],
   "source": [
    "URL = 'http://archive.ics.uci.edu/ml/machine-learning-databases/cmc/cmc.data'\n",
    "df = dataset(URL, header=None)\n",
    "df.to_int()\n",
    "df.set_target('x9')\n",
    "\n",
    "df = df.to_categorical(['x1', 'x2', 'x4', 'x5', 'x6', 'x7', 'x8'])\n",
    "df.discretize('x0', [(15, 20), (20, 25), (25, 30),\n",
    "                     (30, 35), (35, 40), (40, 50)])\n",
    "df.discretize('x3', [(0, 2), (2, 4), (4, 6), (6, 8), (8, 10), (10, 20)])\n",
    "df.onehot_encode(df.names('features'))"
   ]
  },
  {
   "cell_type": "markdown",
   "metadata": {
    "slideshow": {
     "slide_type": "slide"
    }
   },
   "source": [
    "## Modify the dataset to unbalance it.\n",
    "\n",
    "We must inbalance the dataset, and to do so, we will reduce the number of samples of one of the categories (2), and remove the category labeled as \"3\", so we end up with a binomial classifications problem. Let's show how many values do we have from each one."
   ]
  },
  {
   "cell_type": "code",
   "execution_count": 92,
   "metadata": {
    "slideshow": {
     "slide_type": "fragment"
    }
   },
   "outputs": [
    {
     "data": {
      "text/plain": [
       "1    629\n",
       "3    511\n",
       "2    333\n",
       "Name: x9, dtype: int64"
      ]
     },
     "execution_count": 92,
     "metadata": {},
     "output_type": "execute_result"
    }
   ],
   "source": [
    "df_unbalanced = copy(df)\n",
    "df_unbalanced.target.value_counts()"
   ]
  },
  {
   "cell_type": "markdown",
   "metadata": {
    "slideshow": {
     "slide_type": "slide"
    }
   },
   "source": [
    "Let's remove those samples for which `target` matches the value `3`, and see what is the new count of values."
   ]
  },
  {
   "cell_type": "code",
   "execution_count": 93,
   "metadata": {
    "scrolled": true,
    "slideshow": {
     "slide_type": "fragment"
    }
   },
   "outputs": [
    {
     "data": {
      "text/plain": [
       "1    629\n",
       "2    333\n",
       "Name: x9, dtype: int64"
      ]
     },
     "execution_count": 93,
     "metadata": {},
     "output_type": "execute_result"
    }
   ],
   "source": [
    "df_unbalanced.drop_samples(df_unbalanced.samples_matching(3))\n",
    "df_unbalanced.target.value_counts()"
   ]
  },
  {
   "cell_type": "markdown",
   "metadata": {
    "slideshow": {
     "slide_type": "slide"
    }
   },
   "source": [
    "Now, remove a lot of samples from class `2`, to finally have an unbalanced dataset. We will randomly remove them."
   ]
  },
  {
   "cell_type": "code",
   "execution_count": 94,
   "metadata": {
    "slideshow": {
     "slide_type": "fragment"
    }
   },
   "outputs": [
    {
     "data": {
      "text/plain": [
       "1    629\n",
       "2     33\n",
       "Name: x9, dtype: int64"
      ]
     },
     "execution_count": 94,
     "metadata": {},
     "output_type": "execute_result"
    }
   ],
   "source": [
    "df_unbalanced.drop_samples(random.sample(df_unbalanced.samples_matching(2), k=300))\n",
    "df_unbalanced.target.value_counts()"
   ]
  },
  {
   "cell_type": "markdown",
   "metadata": {
    "slideshow": {
     "slide_type": "slide"
    }
   },
   "source": [
    "I will put all data initialization in a single method `init_dataset()` in case I need to reset data in future steps."
   ]
  },
  {
   "cell_type": "code",
   "execution_count": 95,
   "metadata": {
    "code_folding": [
     0
    ],
    "hide_input": false,
    "slideshow": {
     "slide_type": "fragment"
    }
   },
   "outputs": [],
   "source": [
    "def init_dataset():\n",
    "    URL = 'http://archive.ics.uci.edu/ml/machine-learning-databases/cmc/cmc.data'\n",
    "    df = dataset(URL, header=None)\n",
    "    df.to_int()\n",
    "    df.set_target('x9')\n",
    "\n",
    "    # Binomial\n",
    "    df.drop_samples(df.samples_matching(3))\n",
    "\n",
    "    df = df.to_categorical(['x1', 'x2', 'x4', 'x5', 'x6', 'x7', 'x8'])\n",
    "    df.discretize('x0', [(15, 20), (20, 25), (25, 30),\n",
    "                         (30, 35), (35, 40), (40, 50)])\n",
    "    df.discretize('x3', [(0, 2), (2, 4), (4, 6), (6, 8), (8, 10), (10, 20)])\n",
    "    df.onehot_encode(df.names('features'));\n",
    "\n",
    "    return df"
   ]
  },
  {
   "cell_type": "markdown",
   "metadata": {
    "slideshow": {
     "slide_type": "slide"
    }
   },
   "source": [
    "## Baseline the unbalanced dataset\n",
    "\n",
    "Train and evaluate a basic logistic regression over a split of our **unbalanced** dataset, and check out what is the accuracy score obtained."
   ]
  },
  {
   "cell_type": "code",
   "execution_count": 96,
   "metadata": {
    "slideshow": {
     "slide_type": "fragment"
    }
   },
   "outputs": [
    {
     "name": "stdout",
     "output_type": "stream",
     "text": [
      "Accuracy:  0.94\n"
     ]
    }
   ],
   "source": [
    "X, y = df_unbalanced.split(test_size=0.2)\n",
    "\n",
    "clf_baseline = LogisticRegression().fit(X.train, y.train)\n",
    "pred_baseline = clf_baseline.predict(X.test)\n",
    "\n",
    "print('Accuracy: ', accuracy_score(y.test, pred_baseline).round(3))"
   ]
  },
  {
   "cell_type": "markdown",
   "metadata": {
    "slideshow": {
     "slide_type": "fragment"
    }
   },
   "source": [
    "Seems pretty high, though if we examine the values predicted by our model, we can check that our model always responds with `1`."
   ]
  },
  {
   "cell_type": "code",
   "execution_count": 97,
   "metadata": {
    "slideshow": {
     "slide_type": "fragment"
    }
   },
   "outputs": [
    {
     "name": "stdout",
     "output_type": "stream",
     "text": [
      "[1]\n"
     ]
    }
   ],
   "source": [
    "print(np.unique(pred_baseline))"
   ]
  },
  {
   "cell_type": "markdown",
   "metadata": {
    "slideshow": {
     "slide_type": "slide"
    }
   },
   "source": [
    "What is the value of the different metrics that we can apply to a classifier? Here we will evaluate F1, Recall and MCC. F1 is already telling us that the classifier is not perfect, though is also throwing a number which is greater than accuracy! Recall says that the model is perfect! And finally, MCC is evaluated as 0, which means that there's something wrong.... and this is the first hint on how unbalanced are our datasets."
   ]
  },
  {
   "cell_type": "code",
   "execution_count": 98,
   "metadata": {
    "slideshow": {
     "slide_type": "fragment"
    }
   },
   "outputs": [
    {
     "name": "stdout",
     "output_type": "stream",
     "text": [
      "F1: 0.9689922480620156\n",
      "Recall: 1.0\n",
      "MCC: 0.0\n"
     ]
    }
   ],
   "source": [
    "print('F1:', f1_score(y.test, pred_baseline))\n",
    "print('Recall:', recall_score(y.test, pred_baseline))\n",
    "print('MCC:', matthews_corrcoef(y.test, pred_baseline))"
   ]
  },
  {
   "cell_type": "markdown",
   "metadata": {
    "slideshow": {
     "slide_type": "slide"
    }
   },
   "source": [
    "## Evaluation function\n",
    "\n",
    "Let me put the evaluating function in a method, for later use it without having to copy and paste the same code again and again."
   ]
  },
  {
   "cell_type": "code",
   "execution_count": 99,
   "metadata": {
    "slideshow": {
     "slide_type": "slide"
    }
   },
   "outputs": [],
   "source": [
    "def evaluate_LogReg(X_train, y_train, X_test, y_test, \n",
    "                    return_score='F1',\n",
    "                    printout=False):\n",
    "    \"\"\"\n",
    "    Fits a logistic regression with the training set, and evaluates it with \n",
    "    the test set, using Accuracy, F1, Recall or MCC metrics\n",
    "\n",
    "    \"\"\"\n",
    "    lr = LogisticRegression().fit(X_train, y_train)\n",
    "    y_hat = lr.predict(X_test)\n",
    "\n",
    "    accuracy = accuracy_score(y_test, y_hat)\n",
    "    F1 = f1_score(y_test, y_hat)\n",
    "    recall = recall_score(y_test, y_hat)\n",
    "    MCC = matthews_corrcoef(y_test, y_hat)\n",
    "    \n",
    "    if printout is True:\n",
    "        print('Accuracy:', accuracy)\n",
    "        print('F1:', F1)\n",
    "        print('Recall:', recall)\n",
    "        print('MCC:', MCC)\n",
    "    \n",
    "    return eval(return_score)"
   ]
  },
  {
   "cell_type": "markdown",
   "metadata": {
    "slideshow": {
     "slide_type": "slide"
    }
   },
   "source": [
    "And now, evaluate the balanced dataset to have a baseline."
   ]
  },
  {
   "cell_type": "markdown",
   "metadata": {
    "slideshow": {
     "slide_type": "slide"
    }
   },
   "source": [
    "## Oversampling\n",
    "\n",
    "### Random oversampling\n",
    "\n",
    "Let's check what is the result of applying the rather basic oversampling technique to our inbalanced problem. We will test the `scikit` library, and the module `resample`, but also a very specific library to deal with inbalanced datasets called `imblearn`, where we'll try NOT only over/under-sampling, but also some more advanced techniques.\n",
    "\n",
    "REMEBER: Always _split_ into test and train sets **BEFORE** trying oversampling techniques."
   ]
  },
  {
   "cell_type": "code",
   "execution_count": 100,
   "metadata": {
    "slideshow": {
     "slide_type": "slide"
    }
   },
   "outputs": [
    {
     "data": {
      "text/plain": [
       "2    504\n",
       "1    504\n",
       "Name: x9, dtype: int64"
      ]
     },
     "execution_count": 100,
     "metadata": {},
     "output_type": "execute_result"
    }
   ],
   "source": [
    "X_test = X.test\n",
    "y_test = y.test\n",
    "X = pd.concat([X.train, y.train], axis=1)\n",
    "\n",
    "class_1 = X[X.x9 == 1]\n",
    "class_2 = X[X.x9 == 2]\n",
    "\n",
    "oversampled = resample(class_2, replace=True, n_samples=len(class_1),\n",
    "                       random_state=666)\n",
    "\n",
    "oversampled = pd.concat([class_1, oversampled])\n",
    "oversampled.x9.value_counts()"
   ]
  },
  {
   "cell_type": "markdown",
   "metadata": {
    "slideshow": {
     "slide_type": "slide"
    }
   },
   "source": [
    "Now, fit the logistic regression and check what is the result."
   ]
  },
  {
   "cell_type": "code",
   "execution_count": 101,
   "metadata": {
    "slideshow": {
     "slide_type": "fragment"
    }
   },
   "outputs": [
    {
     "name": "stdout",
     "output_type": "stream",
     "text": [
      "Accuracy: 0.7293233082706767\n",
      "F1: 0.8407079646017699\n",
      "Recall: 0.76\n",
      "MCC: 0.00556242699362481\n"
     ]
    }
   ],
   "source": [
    "y_train = oversampled.x9\n",
    "X_train = oversampled.drop('x9', axis=1)\n",
    "\n",
    "random_oversample = evaluate_LogReg(X_train, y_train, X_test, y_test, printout=True)"
   ]
  },
  {
   "cell_type": "markdown",
   "metadata": {
    "slideshow": {
     "slide_type": "fragment"
    }
   },
   "source": [
    "We can see that:\n",
    "\n",
    "- Accuracy is lower now, and I would say that now that dataset is balanced, this is the closest value to reality in our problem.\n",
    "- F1 and reacall are close to accuracy.\n",
    "- MCC is revealing a slight trend towards the correct classification, and unveils some problems with our classifier. This is the reason why MCC is always a good choice."
   ]
  },
  {
   "cell_type": "markdown",
   "metadata": {
    "slideshow": {
     "slide_type": "slide"
    }
   },
   "source": [
    "### SMOTE _informed_ oversampling\n",
    "\n",
    "Let's try now some informed strategy to perform the oversampling. Instead of simply randomly select samples from the minority class and duplicate them, we will build new synthetic samples, based on the information contained in their neares neighbours. This strategy is called SMOTE, which stands for Synthetic Minority Oversampling Technique."
   ]
  },
  {
   "cell_type": "code",
   "execution_count": 102,
   "metadata": {
    "slideshow": {
     "slide_type": "fragment"
    }
   },
   "outputs": [
    {
     "name": "stdout",
     "output_type": "stream",
     "text": [
      "Oversample count\n",
      " [[  1 504]\n",
      " [  2 504]] \n",
      "\n",
      "Accuracy: 0.7443609022556391\n",
      "F1: 0.8508771929824562\n",
      "Recall: 0.776\n",
      "MCC: 0.01479088322370293\n"
     ]
    }
   ],
   "source": [
    "X, y = df_unbalanced.split(test_size=0.2)\n",
    "X_train, y_train = SMOTE().fit_resample(X.train.values, y.train.values)\n",
    "\n",
    "unique, counts = np.unique(y_train, return_counts=True)\n",
    "print('Oversample count\\n', np.asarray((unique, counts)).T, '\\n')\n",
    "\n",
    "smote_oversample = evaluate_LogReg(X_train, y_train, X_test, y_test, printout=True)"
   ]
  },
  {
   "cell_type": "markdown",
   "metadata": {
    "slideshow": {
     "slide_type": "slide"
    }
   },
   "source": [
    "## Undersampling\n",
    "\n",
    "### Random undersampling\n",
    "\n",
    "As we did with out previous technique, we will first check how our model performs when using a random undersampling technique from `scikit-learn`."
   ]
  },
  {
   "cell_type": "code",
   "execution_count": 103,
   "metadata": {
    "scrolled": true,
    "slideshow": {
     "slide_type": "fragment"
    }
   },
   "outputs": [
    {
     "data": {
      "text/plain": [
       "2    25\n",
       "1    25\n",
       "Name: x9, dtype: int64"
      ]
     },
     "execution_count": 103,
     "metadata": {},
     "output_type": "execute_result"
    }
   ],
   "source": [
    "X, y = df_unbalanced.split(test_size=0.2)\n",
    "X_test = X.test\n",
    "y_test = y.test\n",
    "\n",
    "X = pd.concat([X.train, y.train], axis=1)\n",
    "\n",
    "class_1 = X[X.x9 == 1]\n",
    "class_2 = X[X.x9 == 2]\n",
    "\n",
    "undersampled = resample(class_1, replace=True,\n",
    "                        n_samples=len(class_2), random_state=666)\n",
    "\n",
    "undersampled = pd.concat([undersampled, class_2])\n",
    "undersampled.x9.value_counts()"
   ]
  },
  {
   "cell_type": "markdown",
   "metadata": {
    "slideshow": {
     "slide_type": "slide"
    }
   },
   "source": [
    "Now, fit the logistic regression and check what is the result."
   ]
  },
  {
   "cell_type": "code",
   "execution_count": 104,
   "metadata": {
    "slideshow": {
     "slide_type": "fragment"
    }
   },
   "outputs": [
    {
     "name": "stdout",
     "output_type": "stream",
     "text": [
      "Accuracy: 0.6240601503759399\n",
      "F1: 0.7572815533980581\n",
      "Recall: 0.624\n",
      "MCC: 0.12132635933747239\n"
     ]
    }
   ],
   "source": [
    "y_train = undersampled.x9\n",
    "X_train = undersampled.drop('x9', axis=1)\n",
    "\n",
    "random_undersample = evaluate_LogReg(X_train, y_train, X_test, y_test, printout=True)"
   ]
  },
  {
   "cell_type": "markdown",
   "metadata": {
    "slideshow": {
     "slide_type": "slide"
    }
   },
   "source": [
    "What would be the result with the library `imblearn`? We will see that the procedure is a bit simpler since the library gueses what is the final number of samples we must use, by making the number of samples equal to the minimum from each value."
   ]
  },
  {
   "cell_type": "code",
   "execution_count": 105,
   "metadata": {
    "slideshow": {
     "slide_type": "fragment"
    }
   },
   "outputs": [
    {
     "name": "stdout",
     "output_type": "stream",
     "text": [
      "Undersample count\n",
      " [[ 1 25]\n",
      " [ 2 25]] \n",
      "\n",
      "Accuracy: 0.5639097744360902\n",
      "F1: 0.7070707070707072\n",
      "Recall: 0.56\n",
      "MCC: 0.08839641927498686\n"
     ]
    }
   ],
   "source": [
    "X, y = df_unbalanced.split(test_size=0.2)\n",
    "\n",
    "undersampled = RandomUnderSampler(random_state=666)\n",
    "X_train, y_train = undersampled.fit_resample(X.train.values, y.train.values)\n",
    "\n",
    "unique, counts = np.unique(y_train, return_counts=True)\n",
    "print('Undersample count\\n', np.asarray((unique, counts)).T, '\\n')\n",
    "\n",
    "random_undersample = evaluate_LogReg(X_train, y_train, X_test, y_test, printout=True)"
   ]
  },
  {
   "cell_type": "markdown",
   "metadata": {
    "slideshow": {
     "slide_type": "slide"
    }
   },
   "source": [
    "The results are quite similar the ones obtained with the `sklearn` method because we're only randomly sampling from one of the classes, to make it greater (oversampling) or smaller (undersampling).\n",
    "\n",
    "### Near miss (Tomek Links) _informed_ undersampling\n",
    "\n",
    "Why don't remove samples, but, following an informed strategy? Obvious one, is to remove only those samples from the majority class that are _closer_ to minority class. This way, we're loosing information only on the boundary between the two classes, improving the final result of our classifier. This strategy is normally called __Near Miss__, and we'll use the `imblearn` library to run this example."
   ]
  },
  {
   "cell_type": "code",
   "execution_count": 106,
   "metadata": {
    "slideshow": {
     "slide_type": "slide"
    }
   },
   "outputs": [
    {
     "name": "stdout",
     "output_type": "stream",
     "text": [
      "Undersample count\n",
      " [[ 1 25]\n",
      " [ 2 25]] \n",
      "\n",
      "Accuracy: 0.3609022556390977\n",
      "F1: 0.4970414201183432\n",
      "Recall: 0.336\n",
      "MCC: 0.04345873790042522\n"
     ]
    }
   ],
   "source": [
    "X, y = df_unbalanced.split(test_size=0.2)\n",
    "X_train, y_train = NearMiss().fit_resample(X.train.values, y.train.values)\n",
    "\n",
    "unique, counts = np.unique(y_train, return_counts=True)\n",
    "print('Undersample count\\n', np.asarray((unique, counts)).T, '\\n')\n",
    "\n",
    "tomek_undersample = evaluate_LogReg(X_train, y_train, X_test, y_test, printout=True);"
   ]
  },
  {
   "cell_type": "markdown",
   "metadata": {
    "slideshow": {
     "slide_type": "fragment"
    }
   },
   "source": [
    "Metrics have worsen very much, which means that this reduced dataset obtained by undersampling is not good enough to generalize over the test set."
   ]
  },
  {
   "cell_type": "markdown",
   "metadata": {
    "slideshow": {
     "slide_type": "slide"
    }
   },
   "source": [
    "## Summary of results\n",
    "\n",
    "We're getting better results with oversampling techniques, though we can't conclude anything for sure, as we've only tested the different approachs once, with a single split. It could be interesting to see how Near Miss (Tomek Links) performs with multiple evaluations."
   ]
  },
  {
   "cell_type": "code",
   "execution_count": 107,
   "metadata": {
    "hide_input": true
   },
   "outputs": [
    {
     "data": {
      "image/png": "[encoded data removed]",
      "text/plain": [
       "<Figure size 432x288 with 1 Axes>"
      ]
     },
     "metadata": {
      "needs_background": "light"
     },
     "output_type": "display_data"
    }
   ],
   "source": [
    "plt.title('Summary of results')\n",
    "plt.bar(range(4), [random_oversample, smote_oversample, random_undersample, tomek_undersample])\n",
    "plt.xticks(range(4), ('R.Oversample','SMOTE','R.Undersample','Tomek Links'))\n",
    "plt.show()"
   ]
  },
  {
   "cell_type": "markdown",
   "metadata": {
    "slideshow": {
     "slide_type": "slide"
    }
   },
   "source": [
    "## Continue reading...\n",
    "\n",
    "These are the basic strategies to deal with inbalanced datasets. The `imblearn` library contains quite a few of additional methods to apply, which means that you can still try several other strategies. Just to name the most relevant ones:\n",
    "\n",
    "- ADASYN: similar to SMOTE but generating synthetic samples in those regions where it is more difficult to learn the difference between the two classes. The criteria is to count the number of neighbours.\n",
    "- Oversample + Undersample: To prevent the biass generated by the oversample technique, we introduce a new stage of informed undersampling similar to the near miss strategy, to smooth and simplify the decision bounday between the two classes."
   ]
  },
  {
   "cell_type": "markdown",
   "metadata": {
    "slideshow": {
     "slide_type": "slide"
    }
   },
   "source": [
    "# Evaluation of probability models with log likelihood\n",
    "\n",
    "Let's try to obtain the metric from our prediction, and later interpret it.\n",
    "\n",
    "To start, we prepare our dataset the same way we've doing so far, and split it."
   ]
  },
  {
   "cell_type": "code",
   "execution_count": 108,
   "metadata": {
    "scrolled": false,
    "slideshow": {
     "slide_type": "fragment"
    }
   },
   "outputs": [],
   "source": [
    "df = init_dataset()\n",
    "X, y = df.split()"
   ]
  },
  {
   "cell_type": "markdown",
   "metadata": {
    "slideshow": {
     "slide_type": "slide"
    }
   },
   "source": [
    "Now we must train a logistic regression and obtain the predictions for the test set. The criteria that we will use is that the class `1` will be the possitive class, the class `2` will be the negative. It will be more correct to change the values within the DataFrame to `1` and `0`, respectively, but that will also add unnecessary coding."
   ]
  },
  {
   "cell_type": "code",
   "execution_count": 109,
   "metadata": {
    "slideshow": {
     "slide_type": "fragment"
    }
   },
   "outputs": [
    {
     "name": "stdout",
     "output_type": "stream",
     "text": [
      "193 samples in test set, 126 from class_1, and 67 from class_2\n"
     ]
    }
   ],
   "source": [
    "lr = LogisticRegression().fit(X.train, y.train)\n",
    "y_hat = lr.predict(X.test)\n",
    "y_probs = lr.predict_proba(X.test)\n",
    "\n",
    "counts = y.test.x9.value_counts()\n",
    "print('{} samples in test set, {} from class_1, and {} from class_2'.format(\n",
    "    y.test.shape[0], counts.iloc[0], counts.iloc[1]))"
   ]
  },
  {
   "cell_type": "markdown",
   "metadata": {
    "slideshow": {
     "slide_type": "slide"
    }
   },
   "source": [
    "What do we need to use here? Namely, the probabilities thrown by our model. Let's take a look at the variable `y_probs`:"
   ]
  },
  {
   "cell_type": "code",
   "execution_count": 110,
   "metadata": {
    "slideshow": {
     "slide_type": "fragment"
    }
   },
   "outputs": [
    {
     "data": {
      "text/plain": [
       "array([[0.6514892 , 0.3485108 ],\n",
       "       [0.24697011, 0.75302989],\n",
       "       [0.95196017, 0.04803983],\n",
       "       [0.76286084, 0.23713916],\n",
       "       [0.78157748, 0.21842252]])"
      ]
     },
     "execution_count": 110,
     "metadata": {},
     "output_type": "execute_result"
    }
   ],
   "source": [
    "y_probs[:5]"
   ]
  },
  {
   "cell_type": "markdown",
   "metadata": {
    "slideshow": {
     "slide_type": "fragment"
    }
   },
   "source": [
    "First column is the probability that each sample belong to the Class #1. That is the only probability we need to use."
   ]
  },
  {
   "cell_type": "markdown",
   "metadata": {
    "slideshow": {
     "slide_type": "slide"
    }
   },
   "source": [
    "## The NULL Model"
   ]
  },
  {
   "cell_type": "markdown",
   "metadata": {
    "slideshow": {
     "slide_type": "fragment"
    }
   },
   "source": [
    "What is our NULL Model? The model that returns a random value, according to the probability distribution of the classes (1/2) in our classification problem. Given that we have 193 samples, 126 belonging to class #1, and 67 belonging to class #2, our probabilities are:\n",
    "\n",
    "$$ log P(C_1) = log \\left( \\frac{126}{193} \\right) = -0.6152 $$\n",
    "\n",
    "$$ log P(C_2) = log \\left( 1 - P(C_1) \\right) = log \\left( 1 - \\frac{126}{193} \\right) = -1.5264 $$\n",
    "\n",
    "The _log likelihood_ of the NULL model is:\n",
    "\n",
    "$$ \\sum_{i}^{m} log P(C_i) $$\n",
    "\n",
    "where $m$ is the number of samples (193) and the expression within the sum applies to each individual sample, being $P(C_i)$ the probability of the class the sample belongs to.\n",
    "\n",
    "To compute the sum of all those values, we use the following expresion:"
   ]
  },
  {
   "cell_type": "code",
   "execution_count": 111,
   "metadata": {
    "slideshow": {
     "slide_type": "slide"
    }
   },
   "outputs": [
    {
     "name": "stdout",
     "output_type": "stream",
     "text": [
      "Log likelihood of the null model: -179.78\n"
     ]
    }
   ],
   "source": [
    "test_set = pd.concat([X.test, y.test], axis=1)\n",
    "null_model = test_set.apply(\n",
    "    lambda row: -0.6152 if row['x9'] == 1 else -1.5264, axis=1).sum()\n",
    "\n",
    "print('Log likelihood of the null model:', null_model.round(2))"
   ]
  },
  {
   "cell_type": "markdown",
   "metadata": {
    "slideshow": {
     "slide_type": "slide"
    }
   },
   "source": [
    "## The log likelihood of our model\n",
    "\n",
    "To compute the _log likelihood_ of our model we must apply the same formula than above, but for each sample, the probability $P(C_i)$ is the one that our model is assigning to each sample. Remember it is in the first column of the array `y_probs` returned by calling the method `predict_proba()`.\n",
    "\n",
    "We are building a data frame consisting of the actual class each sample in the dataset belongs to, followed by the probability that the logistic regression assigned to each sample in the dataset –which is stored in the first column of `yprobs` (i.e.: `y_probs[:, 0]`). We must use `y.test.values.ravel()` because out labels are in an N-Dimensional array, and must be flattened.  "
   ]
  },
  {
   "cell_type": "code",
   "execution_count": 112,
   "metadata": {
    "slideshow": {
     "slide_type": "fragment"
    }
   },
   "outputs": [
    {
     "data": {
      "text/html": [
       "<div>\n",
       "<style scoped>\n",
       "    .dataframe tbody tr th:only-of-type {\n",
       "        vertical-align: middle;\n",
       "    }\n",
       "\n",
       "    .dataframe tbody tr th {\n",
       "        vertical-align: top;\n",
       "    }\n",
       "\n",
       "    .dataframe thead th {\n",
       "        text-align: right;\n",
       "    }\n",
       "</style>\n",
       "<table border=\"1\" class=\"dataframe\">\n",
       "  <thead>\n",
       "    <tr style=\"text-align: right;\">\n",
       "      <th></th>\n",
       "      <th>x9</th>\n",
       "      <th>prob</th>\n",
       "    </tr>\n",
       "  </thead>\n",
       "  <tbody>\n",
       "    <tr>\n",
       "      <th>0</th>\n",
       "      <td>2</td>\n",
       "      <td>0.651489</td>\n",
       "    </tr>\n",
       "    <tr>\n",
       "      <th>1</th>\n",
       "      <td>2</td>\n",
       "      <td>0.246970</td>\n",
       "    </tr>\n",
       "    <tr>\n",
       "      <th>2</th>\n",
       "      <td>1</td>\n",
       "      <td>0.951960</td>\n",
       "    </tr>\n",
       "    <tr>\n",
       "      <th>3</th>\n",
       "      <td>1</td>\n",
       "      <td>0.762861</td>\n",
       "    </tr>\n",
       "    <tr>\n",
       "      <th>4</th>\n",
       "      <td>1</td>\n",
       "      <td>0.781577</td>\n",
       "    </tr>\n",
       "  </tbody>\n",
       "</table>\n",
       "</div>"
      ],
      "text/plain": [
       "   x9      prob\n",
       "0   2  0.651489\n",
       "1   2  0.246970\n",
       "2   1  0.951960\n",
       "3   1  0.762861\n",
       "4   1  0.781577"
      ]
     },
     "execution_count": 112,
     "metadata": {},
     "output_type": "execute_result"
    }
   ],
   "source": [
    "mr = pd.DataFrame({'x9': y.test.values.ravel(), 'prob': y_probs[:, 0]})\n",
    "mr.head()"
   ]
  },
  {
   "cell_type": "markdown",
   "metadata": {
    "slideshow": {
     "slide_type": "slide"
    }
   },
   "source": [
    "And now we can apply the same expression used to compute the Log Likelihood of the null model, with a slight adaptation to take the actual probabilities returned by the model."
   ]
  },
  {
   "cell_type": "code",
   "execution_count": 113,
   "metadata": {
    "slideshow": {
     "slide_type": "fragment"
    }
   },
   "outputs": [
    {
     "name": "stdout",
     "output_type": "stream",
     "text": [
      "Log likelihood of our model: 67.17\n"
     ]
    }
   ],
   "source": [
    "lr_model = mr.apply(\n",
    "    lambda row: np.log(row['prob']) if row['x9'] == 1 else 1.0 - np.log(row['prob']), axis=1).sum()\n",
    "\n",
    "print('Log likelihood of our model:', lr_model.round(2))"
   ]
  },
  {
   "cell_type": "markdown",
   "metadata": {
    "slideshow": {
     "slide_type": "slide"
    }
   },
   "source": [
    "To assess how good or bad is our log likelihood, we compare that value with the obtained for the NULL model to check that the model log likelihood is much greater than the one from the NULL one:\n",
    "\n",
    "$$ 67.17 >> -179.78 $$\n",
    "\n",
    "The log likelihood describes how likely it is to observe the ground truth labels `y.test` with the given data `X` and the learned coefficients in our logistic regression: \n",
    "\n",
    "$$ arg\\ max_{\\beta}\\ \\ log( P(y | X, \\beta) )$$\n",
    "\n",
    "So, our conclusion is that the logistic regression applied to our dataset is able to predict better than a simple random classifier. This is a good step forward that validates our approach to use Logistic Regression as estimator."
   ]
  },
  {
   "cell_type": "markdown",
   "metadata": {
    "slideshow": {
     "slide_type": "slide"
    }
   },
   "source": [
    "# Cross Validation\n",
    "\n",
    "Cross validation implies that instead of evaluating the model with a single split of train/test, we will use a k-fold technique, and that will produce different results each time is evaluated. \n",
    "\n",
    "The name of the technique referes to the number of folds or subsets are generated. If we say 10-fold, the original dataset is divided into 10 non-overlapping subsets. For each of those subsets, the technique trains the algorithm with the remaining 9, and evaluates the result with the leaved-out one. This process generates 10 different scores, that will be averaged to have a hint on what will be the behavior of our model _in production_.\n",
    "\n",
    "The outcome of the CV process is an assessment on whether our model parameters tend to overfit (our CV score is much better than the validation score), or produce similar results on average."
   ]
  },
  {
   "cell_type": "code",
   "execution_count": 114,
   "metadata": {
    "slideshow": {
     "slide_type": "slide"
    }
   },
   "outputs": [],
   "source": [
    "df = init_dataset()"
   ]
  },
  {
   "cell_type": "markdown",
   "metadata": {
    "slideshow": {
     "slide_type": "fragment"
    }
   },
   "source": [
    "To correctly perform CV, we normally leave a validation set (also called test set), out of the process. This is our original split between training and set. We don't have to change anything there"
   ]
  },
  {
   "cell_type": "code",
   "execution_count": 115,
   "metadata": {
    "slideshow": {
     "slide_type": "fragment"
    }
   },
   "outputs": [],
   "source": [
    "X, y = df.split()"
   ]
  },
  {
   "cell_type": "markdown",
   "metadata": {
    "slideshow": {
     "slide_type": "slide"
    }
   },
   "source": [
    "Now let's build the CV in Python with the help of the `sklearn` library. \n",
    "\n",
    "We need:\n",
    "  - a _learner_ or _estimator_ name, \n",
    "  - the dataset used for training ($X$), \n",
    "  - the labels with the correct response ($y$), \n",
    "  - the evaluation metric that we want to use, and \n",
    "  - the number of splits/folds that we want."
   ]
  },
  {
   "cell_type": "code",
   "execution_count": 116,
   "metadata": {
    "slideshow": {
     "slide_type": "slide"
    }
   },
   "outputs": [
    {
     "name": "stdout",
     "output_type": "stream",
     "text": [
      "F1: 0.8235 (+/- 0.05)\n"
     ]
    }
   ],
   "source": [
    "my_model = LogisticRegression()\n",
    "cv_scores = cross_val_score(my_model, X.train, y.train, scoring='f1', cv=20)\n",
    "\n",
    "print(\"F1: %0.4f (+/- %0.2f)\" % (np.median(cv_scores), np.std(cv_scores)))"
   ]
  },
  {
   "cell_type": "markdown",
   "metadata": {
    "slideshow": {
     "slide_type": "fragment"
    }
   },
   "source": [
    "We can see that the 10 different scores ranges between .77 and .85, which means that the performance of the model heavily depends on the split used for training. But, what can we infer from this?"
   ]
  },
  {
   "cell_type": "code",
   "execution_count": 117,
   "metadata": {
    "code_folding": [
     0
    ],
    "hide_input": false,
    "slideshow": {
     "slide_type": "skip"
    }
   },
   "outputs": [],
   "source": [
    "def plot_scores(scores, labels):\n",
    "    \"\"\"\n",
    "    Receives scores (one or several arrays) and plots a scatter to the left with\n",
    "    the values of the first one, and a boxplot with all of them to the right.\n",
    "    \n",
    "    Arguments\n",
    "        scores: single list of scores, or list of lists of scores.\n",
    "        labels: single label or list of labels identifying the scores passed\n",
    "    \"\"\"\n",
    "    plt.figure(figsize=(10, 5))\n",
    "    \n",
    "    plt.subplot(1, 2, 1)\n",
    "    plt.title('Scores from {}.'.format(labels[0]))\n",
    "    plt.scatter(range(len(scores[0])), scores[0])\n",
    "    \n",
    "    plt.subplot(1, 2, 2)\n",
    "    plt.title('{} scores stdev={:.4f}'.format(labels[0], np.std(scores[0])))\n",
    "    for i in range(len(scores)):\n",
    "        plt.axhline(np.median(scores[i]), color='orange', \n",
    "                    linestyle='--', linewidth=0.5)\n",
    "    plt.boxplot(scores, labels=labels)\n",
    "    plt.ylim(bottom=0.6, top=1.0)\n",
    "    \n",
    "    plt.show()"
   ]
  },
  {
   "cell_type": "code",
   "execution_count": 118,
   "metadata": {
    "slideshow": {
     "slide_type": "slide"
    }
   },
   "outputs": [
    {
     "data": {
      "image/png": "[encoded data removed]",
      "text/plain": [
       "<Figure size 720x360 with 2 Axes>"
      ]
     },
     "metadata": {
      "needs_background": "light"
     },
     "output_type": "display_data"
    }
   ],
   "source": [
    "plot_scores([cv_scores], ['CV'])"
   ]
  },
  {
   "cell_type": "markdown",
   "metadata": {
    "slideshow": {
     "slide_type": "fragment"
    }
   },
   "source": [
    "First and most important thing is that we can state (with a reasonable degree of certainty) that our model is expected to have a 0.82 F1 Score when classifying new unseen data. Let's confirm that: "
   ]
  },
  {
   "cell_type": "code",
   "execution_count": 119,
   "metadata": {
    "slideshow": {
     "slide_type": "slide"
    }
   },
   "outputs": [
    {
     "name": "stdout",
     "output_type": "stream",
     "text": [
      "F1 in production: 0.7778\n"
     ]
    }
   ],
   "source": [
    "lr = my_model.fit(X.train, y.train)\n",
    "y_hat = my_model.predict(X.test)\n",
    "\n",
    "print('F1 in production: {:.4f}'.format(f1_score(y.test, y_hat)))"
   ]
  },
  {
   "cell_type": "markdown",
   "metadata": {
    "slideshow": {
     "slide_type": "fragment"
    }
   },
   "source": [
    "$$ 0.7778 + 0.05 = 0.8278 \\subset 0.8235 \\pm 0.05 = (0.7735, 0.8735) $$\n",
    "\n",
    "Which means that our assumption was right! We can see that our estimation from CV was higher than the final result, which means that our model is not overfitting and generalizing reasonably well with unseen data.\n",
    "\n",
    "We always set the baseline using a CV procedure like the one above. And from that base metric, we assess if our feature engineering or parameters search is producing better results, BUT always using CV evaluation."
   ]
  },
  {
   "cell_type": "markdown",
   "metadata": {
    "slideshow": {
     "slide_type": "slide"
    }
   },
   "source": [
    "## CV with unbalanced dataset\n",
    "\n",
    "Let's repeat the oversampling SMOTE technique, but with CV. We must be careful, as to apply CV right, we must perform the oversampling within each fold/split produced by the CV method. It is incorrect to oversample, and then apply CV."
   ]
  },
  {
   "cell_type": "code",
   "execution_count": 120,
   "metadata": {
    "slideshow": {
     "slide_type": "fragment"
    }
   },
   "outputs": [],
   "source": [
    "# Measure the CV score over the unbalanced dataset.\n",
    "X, y = df_unbalanced.split()\n",
    "cv_unbalanced_scores = cross_val_score(LogisticRegression(), X.train, y.train, \n",
    "                                       scoring='f1', cv=20)"
   ]
  },
  {
   "cell_type": "code",
   "execution_count": 121,
   "metadata": {
    "slideshow": {
     "slide_type": "slide"
    }
   },
   "outputs": [],
   "source": [
    "# Now, do the same, but applying SMOTE oversampling to each fold.\n",
    "cv = StratifiedShuffleSplit(n_splits=20)\n",
    "cv_smote_scores = []\n",
    "for train_idx, test_idx, in cv.split(X.train.values, y.train.values):\n",
    "    # Take the samples from the fold made by the CV method\n",
    "    X_train, y_train = X.train.values[train_idx], y.train.values[train_idx]\n",
    "    X_test, y_test = X.train.values[test_idx], y.train.values[test_idx]\n",
    "    \n",
    "    # Apply SMOTE to the training subset\n",
    "    X_train, y_train = SMOTE().fit_resample(X_train, y_train)\n",
    "    \n",
    "    # Evaluate the model and store it in the array.\n",
    "    f1 = evaluate_LogReg(X_train, y_train, X_test, y_test)    \n",
    "    cv_smote_scores.append(f1)"
   ]
  },
  {
   "cell_type": "code",
   "execution_count": 122,
   "metadata": {
    "hide_input": false,
    "slideshow": {
     "slide_type": "slide"
    }
   },
   "outputs": [
    {
     "data": {
      "image/png": "[encoded data removed]",
      "text/plain": [
       "<Figure size 720x360 with 2 Axes>"
      ]
     },
     "metadata": {
      "needs_background": "light"
     },
     "output_type": "display_data"
    }
   ],
   "source": [
    "plot_scores([cv_smote_scores, cv_unbalanced_scores], \n",
    "            ['CV+SMOTE', 'CV Unbalanced'])"
   ]
  },
  {
   "cell_type": "markdown",
   "metadata": {
    "slideshow": {
     "slide_type": "fragment"
    }
   },
   "source": [
    "As we can see in the figure above, the median F1 score for the oversampled datasets is worse than with the baseline for the imbalanced. This is because the model trained with the unbalanced dataset is not learning well to predict the minority class, and is highly biassed towards the majority class.\n",
    "\n",
    "The new dataset, coming out from oversampling stage is much more balanced and reflects more accurately our expectancies on model's behavior in production."
   ]
  },
  {
   "cell_type": "markdown",
   "metadata": {
    "slideshow": {
     "slide_type": "slide"
    }
   },
   "source": [
    "### Incorrect oversampling\n",
    "\n",
    "What would be the effect of incorrectly applying oversampling outside the CV loop?"
   ]
  },
  {
   "cell_type": "code",
   "execution_count": 123,
   "metadata": {
    "slideshow": {
     "slide_type": "fragment"
    }
   },
   "outputs": [],
   "source": [
    "# Measure the CV score over the unbalanced dataset.\n",
    "X, y = df_unbalanced.split()\n",
    "X_train, y_train = SMOTE().fit_resample(X.train.values, y.train.values)\n",
    "\n",
    "wrong_scores = cross_val_score(LogisticRegression(), \n",
    "                               X_train, y_train, scoring='f1', cv=20)"
   ]
  },
  {
   "cell_type": "code",
   "execution_count": 124,
   "metadata": {
    "slideshow": {
     "slide_type": "slide"
    }
   },
   "outputs": [
    {
     "data": {
      "image/png": "[encoded data removed]",
      "text/plain": [
       "<Figure size 720x360 with 2 Axes>"
      ]
     },
     "metadata": {
      "needs_background": "light"
     },
     "output_type": "display_data"
    }
   ],
   "source": [
    "plot_scores([wrong_scores, cv_smote_scores], ['WRONG Overs.+CV', 'Correct'])"
   ]
  },
  {
   "cell_type": "markdown",
   "metadata": {
    "slideshow": {
     "slide_type": "fragment"
    }
   },
   "source": [
    "The incorrect oversampling is producing a much higher variance of results and wider IQR. Some of the results are actually performing perfectly (F1 = 1.0). This may lead to incorrect assumptions over the model."
   ]
  },
  {
   "cell_type": "markdown",
   "metadata": {
    "slideshow": {
     "slide_type": "slide"
    }
   },
   "source": [
    "# Bootstrapping\n",
    "\n",
    "As we saw in class, bootstrapping is a technique that can be used to estimate population statistics by repeatedly sampling with replacement and measuring. But this technique can also be used to perform model validation in a very similar way to cross-validation: we will evaluate our model with bootstrapped samples of our population.\n",
    "\n",
    "The number of possible combinations of train/test pairs is much larger in bootstrapping, but surprisingly, it does not take longer to stabilize results. It will be enough to run bootstrapped evaluations ~300 times, to obtain a valid result. Let's try!\n",
    "\n",
    "The `resample()` [scikit-learn function](http://scikit-learn.org/stable/modules/generated/sklearn.utils.resample.html) can be used. It takes as arguments the data array, whether or not to sample with replacement, the size of the sample, and the seed for the pseudorandom number generator used prior to the sampling. For example, we can create a bootstrap that creates a sample with replacement with 4 observations and uses a value of 1 for the pseudorandom number generator.\n",
    "\n",
    "    boot = resample(data, replace=True, n_samples=4, random_state=123)\n",
    "   \n",
    "We need a routine to simply bootstrap samples out of the initial `.train` split, letting those not in there, as part of the test set."
   ]
  },
  {
   "cell_type": "markdown",
   "metadata": {
    "slideshow": {
     "slide_type": "slide"
    }
   },
   "source": [
    "We must split the original dataset and leave a 20% validation dataset for later validating results. The bootstrap will be done over the 80% dataset resulting from the random split"
   ]
  },
  {
   "cell_type": "code",
   "execution_count": 125,
   "metadata": {
    "slideshow": {
     "slide_type": "fragment"
    }
   },
   "outputs": [],
   "source": [
    "df = init_dataset()\n",
    "X, y = df.split()"
   ]
  },
  {
   "cell_type": "markdown",
   "metadata": {
    "slideshow": {
     "slide_type": "slide"
    }
   },
   "source": [
    "This is the routine that will split $X$ and $y$ in training and test, using _bootstrapping_."
   ]
  },
  {
   "cell_type": "code",
   "execution_count": 126,
   "metadata": {
    "slideshow": {
     "slide_type": "fragment"
    }
   },
   "outputs": [],
   "source": [
    "def bootstrap_split(X, y, seed, training_size=0.8):\n",
    "    train_num_samples = X.shape[0]\n",
    "    X_train, y_train = resample(X, y, replace=True, \n",
    "                                n_samples=int(train_num_samples * 0.8),\n",
    "                                random_state=seed)\n",
    "\n",
    "    # Take the indices present in the training samples\n",
    "    indices_in_training = X_train.index.to_list()\n",
    "\n",
    "    # Those, NOT in training are, go to the test set.\n",
    "    X_test = X[~X.index.isin(indices_in_training)]\n",
    "    y_test = y[~y.index.isin(indices_in_training)]\n",
    "\n",
    "    return X_train, y_train, X_test, y_test"
   ]
  },
  {
   "cell_type": "markdown",
   "metadata": {
    "slideshow": {
     "slide_type": "slide"
    }
   },
   "source": [
    "And now, simply call the bootstrapping routing with our training portion of the original split. We should repeat this call as many times as we want to evaluate our method."
   ]
  },
  {
   "cell_type": "code",
   "execution_count": 127,
   "metadata": {
    "slideshow": {
     "slide_type": "fragment"
    }
   },
   "outputs": [
    {
     "name": "stdout",
     "output_type": "stream",
     "text": [
      "F1 (bootstrapping): 0.8103 (+/- 0.02)\n"
     ]
    }
   ],
   "source": [
    "bs_scores = []\n",
    "for i in range(20):\n",
    "    X_train, y_train, X_test, y_test = bootstrap_split(X.train, y.train, \n",
    "                                                       seed=i*23)\n",
    "    bs_scores.append(evaluate_LogReg(X_train, y_train, X_test, y_test))\n",
    "\n",
    "print(\"F1 (bootstrapping): %0.4f (+/- %0.2f)\" % (np.median(bs_scores), np.std(bs_scores)))"
   ]
  },
  {
   "cell_type": "code",
   "execution_count": 128,
   "metadata": {
    "slideshow": {
     "slide_type": "slide"
    }
   },
   "outputs": [
    {
     "data": {
      "image/png": "[encoded data removed]",
      "text/plain": [
       "<Figure size 720x360 with 2 Axes>"
      ]
     },
     "metadata": {
      "needs_background": "light"
     },
     "output_type": "display_data"
    }
   ],
   "source": [
    "plot_scores([bs_scores, cv_scores], ['Bootstrapping', 'CV'])"
   ]
  },
  {
   "cell_type": "markdown",
   "metadata": {
    "slideshow": {
     "slide_type": "fragment"
    }
   },
   "source": [
    "The results differ with those obtained with CV. Lower variance (stdev), though similar median values. Can we state that both methods are providing similar results?"
   ]
  },
  {
   "cell_type": "markdown",
   "metadata": {
    "slideshow": {
     "slide_type": "slide"
    }
   },
   "source": [
    "## Bootstrap the unbalanced dataset\n",
    "\n",
    "Apply Bootstrapping to our undersampling with SMOTE loop, used in the previous section, but replacing CV by this new sampling method."
   ]
  },
  {
   "cell_type": "code",
   "execution_count": 129,
   "metadata": {
    "scrolled": true,
    "slideshow": {
     "slide_type": "fragment"
    }
   },
   "outputs": [],
   "source": [
    "X, y = df_unbalanced.split()\n",
    "\n",
    "# Now, do the same, but applying SMOTE oversampling to each fold.\n",
    "bs_smote_scores = []\n",
    "for i in range(20):\n",
    "    # Take the samples from the fold made by the Bootstrapping method\n",
    "    X_train, y_train, X_test, y_test = bootstrap_split(X.train,  y.train, \n",
    "                                                       seed=i*23)\n",
    "    # Apply SMOTE to the training subset\n",
    "    X_train, y_train = SMOTE().fit_resample(X_train.values, y_train.values)\n",
    "    f1 = evaluate_LogReg(X_train, y_train, X_test, y_test)\n",
    "    bs_smote_scores.append(f1)"
   ]
  },
  {
   "cell_type": "code",
   "execution_count": 130,
   "metadata": {
    "slideshow": {
     "slide_type": "slide"
    }
   },
   "outputs": [
    {
     "data": {
      "image/png": "[encoded data removed]",
      "text/plain": [
       "<Figure size 720x360 with 2 Axes>"
      ]
     },
     "metadata": {
      "needs_background": "light"
     },
     "output_type": "display_data"
    }
   ],
   "source": [
    "plot_scores([bs_smote_scores, cv_smote_scores, cv_unbalanced_scores], \n",
    "            ['BS+SMOTE', 'CV+SMOTE', 'CV Unbalanced'])"
   ]
  },
  {
   "cell_type": "markdown",
   "metadata": {
    "slideshow": {
     "slide_type": "fragment"
    }
   },
   "source": [
    "We see that slight difference between bootstrapping and cross-validation. A little higher value for the median of the scores: bootstrapping is more optimistic. We see that CV present two outliers and a smaller IQR which is a symptom of a narrower search space, probably due to the large overlap between samples in different splits."
   ]
  },
  {
   "cell_type": "markdown",
   "metadata": {
    "slideshow": {
     "slide_type": "slide"
    }
   },
   "source": [
    "## Compare bootstrapping and CV\n",
    "\n",
    "We now want to compare how both techniques differ after a relatively large number of iterations. Say, 100. We do expect bootstrapping to perform a wider search over different combinations of values, and CV to explore a narrower amount of variance due to its methodical exploration mechanism.\n",
    "\n",
    "We're building two methods that simply copy the lines in the previous section (CV and Bootstrap) and they repeat the process 100 times. After each iteration, the median of the values obtained through the bootstrappint or CV is stored and returned at the end."
   ]
  },
  {
   "cell_type": "code",
   "execution_count": 131,
   "metadata": {
    "code_folding": [
     0,
     13
    ],
    "hide_input": true
   },
   "outputs": [],
   "source": [
    "def bs_med_score():\n",
    "    bootstrap_scores = []\n",
    "    for i in range(10):\n",
    "        X_train, y_train, X_test, y_test = bootstrap_split(X.train,  y.train,\n",
    "                                                           seed=i*23)\n",
    "        # Apply SMOTE to the training subset\n",
    "        X_train, y_train = SMOTE().fit_resample(X_train.values, y_train.values)\n",
    "        bootstrap_scores.append(evaluate_LogReg(\n",
    "            X_train, y_train, X_test, y_test))\n",
    "\n",
    "    return np.median(bootstrap_scores)\n",
    "\n",
    "\n",
    "def cv_med_score():\n",
    "    cv = StratifiedShuffleSplit(\n",
    "        n_splits=10, random_state=random.randint(1, 100))\n",
    "    cv_scores = []\n",
    "    for train_idx, test_idx, in cv.split(X.train.values, y.train.values):\n",
    "        # Take the samples from the fold made by the CV method\n",
    "        X_train, y_train = X.train.values[train_idx], y.train.values[train_idx]\n",
    "        X_test, y_test = X.train.values[test_idx], y.train.values[test_idx]\n",
    "\n",
    "        # Apply SMOTE to the training subset, train the LR and obtain F1\n",
    "        X_train, y_train = SMOTE().fit_resample(X_train, y_train)\n",
    "        cv_scores.append(evaluate_LogReg(X_train, y_train, X_test, y_test))\n",
    "\n",
    "    return np.median(cv_scores)"
   ]
  },
  {
   "cell_type": "markdown",
   "metadata": {
    "slideshow": {
     "slide_type": "slide"
    }
   },
   "source": [
    "We run bootstrapping 100 times, collecting the median of the F1 score obtained each time."
   ]
  },
  {
   "cell_type": "code",
   "execution_count": 132,
   "metadata": {
    "slideshow": {
     "slide_type": "fragment"
    }
   },
   "outputs": [
    {
     "data": {
      "application/vnd.jupyter.widget-view+json": {
       "model_id": "2ad2cb5045c24a418cf60f4d3c85e193",
       "version_major": 2,
       "version_minor": 0
      },
      "text/plain": [
       "HBox(children=(FloatProgress(value=0.0), HTML(value='')))"
      ]
     },
     "metadata": {},
     "output_type": "display_data"
    },
    {
     "name": "stdout",
     "output_type": "stream",
     "text": [
      "\n"
     ]
    }
   ],
   "source": [
    "bs_smote_med_scores = [bs_med_score() for _ in tqdm_notebook(range(100))]"
   ]
  },
  {
   "cell_type": "markdown",
   "metadata": {
    "slideshow": {
     "slide_type": "fragment"
    }
   },
   "source": [
    "We run CV 100 times, collecting the median of the F1 score obtained each time."
   ]
  },
  {
   "cell_type": "code",
   "execution_count": 133,
   "metadata": {
    "slideshow": {
     "slide_type": "fragment"
    }
   },
   "outputs": [
    {
     "data": {
      "application/vnd.jupyter.widget-view+json": {
       "model_id": "0c4f721c278a4a84b57f200373a016f9",
       "version_major": 2,
       "version_minor": 0
      },
      "text/plain": [
       "HBox(children=(FloatProgress(value=0.0), HTML(value='')))"
      ]
     },
     "metadata": {},
     "output_type": "display_data"
    },
    {
     "name": "stdout",
     "output_type": "stream",
     "text": [
      "\n"
     ]
    }
   ],
   "source": [
    "cv_smote_med_scores = [cv_med_score() for _ in tqdm_notebook(range(100))]"
   ]
  },
  {
   "cell_type": "markdown",
   "metadata": {
    "slideshow": {
     "slide_type": "slide"
    }
   },
   "source": [
    "We plot the resulting experiment for CV (left) and Bootstrapping (right)"
   ]
  },
  {
   "cell_type": "code",
   "execution_count": 134,
   "metadata": {
    "code_folding": [
     0
    ],
    "hide_input": false,
    "slideshow": {
     "slide_type": "slide"
    }
   },
   "outputs": [
    {
     "data": {
      "image/png": "[encoded data removed]",
      "text/plain": [
       "<Figure size 432x288 with 1 Axes>"
      ]
     },
     "metadata": {
      "needs_background": "light"
     },
     "output_type": "display_data"
    }
   ],
   "source": [
    "# Boxplot \n",
    "plt.title('Median of score (CV & BS) after 100 iterations')\n",
    "plt.boxplot([cv_smote_med_scores, bs_smote_med_scores], \n",
    "            labels=['100 CV+SMOTE', '100 BS+SMOTE'])\n",
    "plt.show()"
   ]
  },
  {
   "cell_type": "markdown",
   "metadata": {
    "slideshow": {
     "slide_type": "fragment"
    }
   },
   "source": [
    "We can observe/confirm:\n",
    "\n",
    "- Bootstrap remains optimistic (higher median of F1 score), \n",
    "- CV produces a wider range of possible values (higher uncertainty about the model performance with unseen data), or higer variance in results.\n",
    "- Bootstrap converges systematically to a well defined range of values, without extreme events.\n",
    "\n",
    "We now have to perform the final assessment, which consist in evaluating the model with the held-out dataset resulting from our call to `split()` at the beginning of the process. This portion will validate our results as follows:\n",
    "\n",
    "- We expect our model to behave slightly worse with unseen data.\n",
    "- If our model performs significantly **better** with unseen data, that could mean that our splitting function might be wrong (training set is not representative) or that we're making our training conditions (regularization) harder than needed.\n",
    "- If our model performs significantly **worse** in test, that clearly means that we are overfitting during training: due to large/incorrect number of predictors or incorrect parameters in our learner."
   ]
  },
  {
   "cell_type": "markdown",
   "metadata": {
    "slideshow": {
     "slide_type": "slide"
    }
   },
   "source": [
    "## Validate model trained with oversampling (SMOTE)\n",
    "\n",
    "Final step is to evaluate our model. We will use the `.test` property of `X` and `y` variables obtained after the call to `split()`. Those contain 20% of the samples."
   ]
  },
  {
   "cell_type": "code",
   "execution_count": 135,
   "metadata": {
    "scrolled": true,
    "slideshow": {
     "slide_type": "slide"
    }
   },
   "outputs": [
    {
     "name": "stdout",
     "output_type": "stream",
     "text": [
      "F1 with unseen data: 0.8304\n",
      "F1 estimated by CV: 0.8697 (4.73%)\n",
      "F1 estimated by Bootstrapping: 0.8828 (6.31%)\n"
     ]
    }
   ],
   "source": [
    "X, y = df_unbalanced.split()\n",
    "\n",
    "# Train a LR with the oversampled portion of the split\n",
    "X_train, y_train = SMOTE().fit_resample(X.train.values, y.train.values)\n",
    "lr = my_model.fit(X_train, y_train)\n",
    "y_hat = my_model.predict(X.test)\n",
    "\n",
    "# Compute the metrics\n",
    "f1 = f1_score(y.test, y_hat)\n",
    "f1_cv = np.median(cv_smote_med_scores)\n",
    "f1_bs = np.median(bs_smote_med_scores)\n",
    "\n",
    "print('F1 with unseen data: {:.4f}'.format(f1))\n",
    "print('F1 estimated by CV: {:.4f} ({:.2f}%)'.format(\n",
    "    f1_cv, ((f1_cv-f1)/f1)*100.))\n",
    "print('F1 estimated by Bootstrapping: {:.4f} ({:.2f}%)'.format(\n",
    "    f1_bs, ((f1_bs-f1)/f1)*100.))"
   ]
  },
  {
   "cell_type": "markdown",
   "metadata": {
    "slideshow": {
     "slide_type": "fragment"
    }
   },
   "source": [
    "The closest result is coming from CV. Bootstrapping has been a bit more optimistic."
   ]
  },
  {
   "cell_type": "markdown",
   "metadata": {
    "slideshow": {
     "slide_type": "slide"
    }
   },
   "source": [
    "# Significance Tests\n",
    "\n",
    "How sure we're about our results? Have we obtained them by chance? Did uur random generator gave us the most representative split? Let's see how to be a bit more sure about the results by\n",
    "\n",
    "1. Repeating the final validation a number of times, with different splits,\n",
    "2. Computing a singificance test over the CV results."
   ]
  },
  {
   "cell_type": "markdown",
   "metadata": {
    "slideshow": {
     "slide_type": "slide"
    }
   },
   "source": [
    "## Iterative validation process\n",
    "\n",
    "We should never rely on a single random decision, like the one taken when splitting the dataset at the beginning of the oversampling, to eventually assess the production performance on the initial leave-out fold. We should repeat that split a number of times, to be sure that our estimates are ok.\n",
    "\n",
    "Let's repeat the split, training and validation 100 times, to take 100 different measurements of what is the expected performance of a model trained with an oversampled split."
   ]
  },
  {
   "cell_type": "code",
   "execution_count": 136,
   "metadata": {
    "slideshow": {
     "slide_type": "slide"
    }
   },
   "outputs": [],
   "source": [
    "def repeat_validation(n_times=100):\n",
    "    f1s = []\n",
    "    for _ in tqdm_notebook(range(n_times)):\n",
    "        X, y = df_unbalanced.split(seed=random.randint(1, 100))\n",
    "        X_train, y_train = SMOTE().fit_resample(X.train.values, y.train.values)\n",
    "        lr = my_model.fit(X_train, y_train)\n",
    "        y_hat = my_model.predict(X.test)\n",
    "        f1s.append(f1_score(y.test, y_hat))\n",
    "\n",
    "    return f1s"
   ]
  },
  {
   "cell_type": "code",
   "execution_count": 142,
   "metadata": {
    "slideshow": {
     "slide_type": "slide"
    }
   },
   "outputs": [
    {
     "data": {
      "application/vnd.jupyter.widget-view+json": {
       "model_id": "c2d54ab8493d4c7b9100fe14ad9b70c3",
       "version_major": 2,
       "version_minor": 0
      },
      "text/plain": [
       "HBox(children=(FloatProgress(value=0.0), HTML(value='')))"
      ]
     },
     "metadata": {},
     "output_type": "display_data"
    },
    {
     "name": "stdout",
     "output_type": "stream",
     "text": [
      "\n",
      "Median of F1 with unseen data, after 100 iterations: 0.8444\n",
      "F1 estimated by CV: 0.8697 (2.99%)\n",
      "F1 estimated by Bootstrapping: 0.8828 (4.54%)\n"
     ]
    }
   ],
   "source": [
    "f1s = repeat_validation(100)\n",
    "m_f1 = np.median(f1s)\n",
    "print('Median of F1 with unseen data, after 100 iterations: {:.4f}'.format(\n",
    "    np.median(m_f1)))\n",
    "print('F1 estimated by CV: {:.4f} ({:.2f}%)'.format(\n",
    "    f1_cv, ((f1_cv-m_f1)/m_f1)*100.))\n",
    "print('F1 estimated by Bootstrapping: {:.4f} ({:.2f}%)'.format(\n",
    "    f1_bs, ((f1_bs-m_f1)/m_f1)*100.))"
   ]
  },
  {
   "cell_type": "markdown",
   "metadata": {
    "slideshow": {
     "slide_type": "fragment"
    }
   },
   "source": [
    "Even repeating the process 100 times, I find discrepancies, and some times bootstrap and CV produce nearly same results, and some others BS doubles the distance to the actual median of F1. All in all, BS tipically is producing optimistic results, compared to CV."
   ]
  },
  {
   "cell_type": "markdown",
   "metadata": {
    "slideshow": {
     "slide_type": "slide"
    }
   },
   "source": [
    "## Significance tests\n",
    "\n",
    "We will use an statistical signficance test to compare if results from two models come from the same distribution. Our two result sets come from the evaluation made over the test set, as in `repeat_validation()` method (`f1s`), and from the CV+SMOTE F1 scores obtained by repeating the process of CV (`cv_smote_med_scores`).\n",
    "\n",
    "We're interested in a significance test that will assess the medians, and for that purpose, Kruskal-Wallis test could do the job. It is a non-parametric test, which means that it does not take any assumption on the distribution of the data, which is specially convenient.\n",
    "\n",
    "As it is very well explained [here](https://machinelearningmastery.com/nonparametric-statistical-significance-tests-in-python/): _The default assumption or the null hypothesis is that all data samples were drawn from the same distribution. Specifically, that the population medians of all groups are equal. A rejection of the null hypothesis indicates that there is enough evidence to suggest that one or more samples dominate another sample, but the test does not indicate which samples or by how much_.\n",
    "\n",
    "So, go for it."
   ]
  },
  {
   "cell_type": "code",
   "execution_count": 138,
   "metadata": {
    "slideshow": {
     "slide_type": "slide"
    }
   },
   "outputs": [],
   "source": [
    "def kw_test(data1, data2):\n",
    "    stat, p = kruskal(data1, data2)\n",
    "    print('Statistics={:.2f}, p={:.4f}'.format(stat, p))\n",
    "    alpha = 0.05\n",
    "    if p > alpha:\n",
    "        print('Same distributions (fail to reject H0)')\n",
    "        return True\n",
    "    else:\n",
    "        print('Different distributions (reject H0)')\n",
    "        return False"
   ]
  },
  {
   "cell_type": "code",
   "execution_count": 139,
   "metadata": {
    "slideshow": {
     "slide_type": "subslide"
    }
   },
   "outputs": [
    {
     "name": "stdout",
     "output_type": "stream",
     "text": [
      "Statistics=60.88, p=0.0000\n",
      "Different distributions (reject H0)\n"
     ]
    },
    {
     "data": {
      "text/plain": [
       "False"
      ]
     },
     "execution_count": 139,
     "metadata": {},
     "output_type": "execute_result"
    }
   ],
   "source": [
    "kw_test(f1s, cv_smote_med_scores)"
   ]
  },
  {
   "cell_type": "code",
   "execution_count": 140,
   "metadata": {
    "slideshow": {
     "slide_type": "subslide"
    }
   },
   "outputs": [
    {
     "name": "stdout",
     "output_type": "stream",
     "text": [
      "Statistics=116.91, p=0.0000\n",
      "Different distributions (reject H0)\n"
     ]
    },
    {
     "data": {
      "text/plain": [
       "False"
      ]
     },
     "execution_count": 140,
     "metadata": {},
     "output_type": "execute_result"
    }
   ],
   "source": [
    "kw_test(f1s, bs_smote_med_scores)"
   ]
  },
  {
   "cell_type": "code",
   "execution_count": 141,
   "metadata": {
    "slideshow": {
     "slide_type": "subslide"
    }
   },
   "outputs": [
    {
     "name": "stdout",
     "output_type": "stream",
     "text": [
      "Statistics=57.49, p=0.0000\n",
      "Different distributions (reject H0)\n"
     ]
    },
    {
     "data": {
      "text/plain": [
       "False"
      ]
     },
     "execution_count": 141,
     "metadata": {},
     "output_type": "execute_result"
    }
   ],
   "source": [
    "kw_test(cv_smote_med_scores, bs_smote_med_scores)"
   ]
  },
  {
   "cell_type": "markdown",
   "metadata": {
    "slideshow": {
     "slide_type": "subslide"
    }
   },
   "source": [
    "Although this significance test has been proposed simply to illustrate how to apply them, ideally the way of applying it is to use it over two different models, over the same split/fold, to finally decide whether their results are equivalent."
   ]
  }
 ],
 "metadata": {
  "celltoolbar": "Slideshow",
  "kernel_info": {
   "name": "python3"
  },
  "kernelspec": {
   "display_name": "Python 3",
   "language": "python",
   "name": "python3"
  },
  "language_info": {
   "codemirror_mode": {
    "name": "ipython",
    "version": 3
   },
   "file_extension": ".py",
   "mimetype": "text/x-python",
   "name": "python",
   "nbconvert_exporter": "python",
   "pygments_lexer": "ipython3",
   "version": "3.7.6"
  },
  "nteract": {
   "version": "0.15.0"
  },
  "toc": {
   "base_numbering": 1,
   "nav_menu": {},
   "number_sections": true,
   "sideBar": true,
   "skip_h1_title": false,
   "title_cell": "Table of Contents",
   "title_sidebar": "Contents",
   "toc_cell": true,
   "toc_position": {},
   "toc_section_display": true,
   "toc_window_display": false
  }
 },
 "nbformat": 4,
 "nbformat_minor": 4
}
